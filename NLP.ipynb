{
  "nbformat": 4,
  "nbformat_minor": 0,
  "metadata": {
    "colab": {
      "provenance": [],
      "machine_shape": "hm",
      "gpuType": "T4",
      "include_colab_link": true
    },
    "kernelspec": {
      "name": "python3",
      "display_name": "Python 3"
    },
    "language_info": {
      "name": "python"
    },
    "accelerator": "GPU"
  },
  "cells": [
    {
      "cell_type": "markdown",
      "metadata": {
        "id": "view-in-github",
        "colab_type": "text"
      },
      "source": [
        "<a href=\"https://colab.research.google.com/github/yingchenjin/IANAL/blob/main/NLP.ipynb\" target=\"_parent\"><img src=\"https://colab.research.google.com/assets/colab-badge.svg\" alt=\"Open In Colab\"/></a>"
      ]
    },
    {
      "cell_type": "code",
      "source": [
        "import nltk\n",
        "nltk.download('stopwords')\n",
        "nltk.download('punkt')\n",
        "nltk.download('wordnet')\n",
        "nltk.download('omw-1.4')  # Optional, for better lemmatization\n",
        "nltk.download('averaged_perceptron_tagger')"
      ],
      "metadata": {
        "colab": {
          "base_uri": "https://localhost:8080/"
        },
        "id": "txFpZjaP-ehQ",
        "outputId": "b220a417-1ff4-4c71-9aa4-13a8fb74367b"
      },
      "execution_count": null,
      "outputs": [
        {
          "output_type": "stream",
          "name": "stderr",
          "text": [
            "[nltk_data] Downloading package stopwords to /root/nltk_data...\n",
            "[nltk_data]   Package stopwords is already up-to-date!\n",
            "[nltk_data] Downloading package punkt to /root/nltk_data...\n",
            "[nltk_data]   Package punkt is already up-to-date!\n",
            "[nltk_data] Downloading package wordnet to /root/nltk_data...\n",
            "[nltk_data]   Package wordnet is already up-to-date!\n",
            "[nltk_data] Downloading package omw-1.4 to /root/nltk_data...\n",
            "[nltk_data] Downloading package averaged_perceptron_tagger to\n",
            "[nltk_data]     /root/nltk_data...\n",
            "[nltk_data]   Unzipping taggers/averaged_perceptron_tagger.zip.\n"
          ]
        },
        {
          "output_type": "execute_result",
          "data": {
            "text/plain": [
              "True"
            ]
          },
          "metadata": {},
          "execution_count": 3
        }
      ]
    },
    {
      "cell_type": "code",
      "source": [
        "import pandas as pd\n",
        "import numpy as np\n",
        "import re\n",
        "import nltk\n",
        "from bs4 import BeautifulSoup\n",
        "from nltk.corpus import stopwords\n",
        "from nltk.tokenize import word_tokenize\n",
        "from nltk.stem import WordNetLemmatizer\n",
        "\n",
        "# Ensure required NLTK data is downloaded\n",
        "nltk.download(\"stopwords\")\n",
        "nltk.download(\"punkt\")\n",
        "nltk.download(\"wordnet\")\n",
        "\n",
        "# Load the dataset\n",
        "file_path = \"/content/data-ianal.csv\"\n",
        "df = pd.read_csv(file_path)\n",
        "\n",
        "# Combine question and answer text\n",
        "df[\"text\"] = df[\"question_body\"].fillna(\"\") + \" \" + df[\"answer_body\"].fillna(\"\")\n",
        "\n",
        "# Function for text cleaning\n",
        "def clean_text(text):\n",
        "    # Remove HTML tags\n",
        "    text = BeautifulSoup(text, \"html.parser\").get_text()\n",
        "\n",
        "    # Remove special characters, numbers, and extra spaces\n",
        "    text = re.sub(r\"[^a-zA-Z\\s]\", \"\", text)\n",
        "\n",
        "    # Convert to lowercase\n",
        "    text = text.lower()\n",
        "\n",
        "    # Tokenize words\n",
        "    words = word_tokenize(text)\n",
        "\n",
        "    # Remove stopwords\n",
        "    stop_words = set(stopwords.words(\"english\"))\n",
        "    words = [word for word in words if word not in stop_words]\n",
        "\n",
        "    # Lemmatize words (reduce to base form)\n",
        "    lemmatizer = WordNetLemmatizer()\n",
        "    words = [lemmatizer.lemmatize(word) for word in words]\n",
        "\n",
        "    # Join words back into a single string\n",
        "    return \" \".join(words)\n",
        "\n",
        "# Apply cleaning function to the text column\n",
        "df[\"cleaned_text\"] = df[\"text\"].apply(clean_text)\n",
        "\n",
        "# Save the processed dataset\n",
        "processed_file_path = \"/mnt/data/processed_data_ianal.csv\"\n",
        "df.to_csv(processed_file_path, index=False)\n",
        "\n",
        "print(\"Text preprocessing complete! Processed file saved as:\", processed_file_path)\n"
      ],
      "metadata": {
        "colab": {
          "base_uri": "https://localhost:8080/",
          "height": 883
        },
        "id": "gpBhdg2e-DT3",
        "outputId": "bb0502d4-cddf-4ade-d0a9-c2190291e61f"
      },
      "execution_count": null,
      "outputs": [
        {
          "output_type": "stream",
          "name": "stderr",
          "text": [
            "[nltk_data] Downloading package stopwords to /root/nltk_data...\n",
            "[nltk_data]   Package stopwords is already up-to-date!\n",
            "[nltk_data] Downloading package punkt to /root/nltk_data...\n",
            "[nltk_data]   Package punkt is already up-to-date!\n",
            "[nltk_data] Downloading package wordnet to /root/nltk_data...\n",
            "[nltk_data]   Package wordnet is already up-to-date!\n"
          ]
        },
        {
          "output_type": "error",
          "ename": "LookupError",
          "evalue": "\n**********************************************************************\n  Resource \u001b[93mpunkt_tab\u001b[0m not found.\n  Please use the NLTK Downloader to obtain the resource:\n\n  \u001b[31m>>> import nltk\n  >>> nltk.download('punkt_tab')\n  \u001b[0m\n  For more information see: https://www.nltk.org/data.html\n\n  Attempted to load \u001b[93mtokenizers/punkt_tab/english/\u001b[0m\n\n  Searched in:\n    - '/root/nltk_data'\n    - '/usr/nltk_data'\n    - '/usr/share/nltk_data'\n    - '/usr/lib/nltk_data'\n    - '/usr/share/nltk_data'\n    - '/usr/local/share/nltk_data'\n    - '/usr/lib/nltk_data'\n    - '/usr/local/lib/nltk_data'\n**********************************************************************\n",
          "traceback": [
            "\u001b[0;31m---------------------------------------------------------------------------\u001b[0m",
            "\u001b[0;31mLookupError\u001b[0m                               Traceback (most recent call last)",
            "\u001b[0;32m<ipython-input-5-9abb5896b791>\u001b[0m in \u001b[0;36m<cell line: 0>\u001b[0;34m()\u001b[0m\n\u001b[1;32m     46\u001b[0m \u001b[0;34m\u001b[0m\u001b[0m\n\u001b[1;32m     47\u001b[0m \u001b[0;31m# Apply cleaning function to the text column\u001b[0m\u001b[0;34m\u001b[0m\u001b[0;34m\u001b[0m\u001b[0m\n\u001b[0;32m---> 48\u001b[0;31m \u001b[0mdf\u001b[0m\u001b[0;34m[\u001b[0m\u001b[0;34m\"cleaned_text\"\u001b[0m\u001b[0;34m]\u001b[0m \u001b[0;34m=\u001b[0m \u001b[0mdf\u001b[0m\u001b[0;34m[\u001b[0m\u001b[0;34m\"text\"\u001b[0m\u001b[0;34m]\u001b[0m\u001b[0;34m.\u001b[0m\u001b[0mapply\u001b[0m\u001b[0;34m(\u001b[0m\u001b[0mclean_text\u001b[0m\u001b[0;34m)\u001b[0m\u001b[0;34m\u001b[0m\u001b[0;34m\u001b[0m\u001b[0m\n\u001b[0m\u001b[1;32m     49\u001b[0m \u001b[0;34m\u001b[0m\u001b[0m\n\u001b[1;32m     50\u001b[0m \u001b[0;31m# Save the processed dataset\u001b[0m\u001b[0;34m\u001b[0m\u001b[0;34m\u001b[0m\u001b[0m\n",
            "\u001b[0;32m/usr/local/lib/python3.11/dist-packages/pandas/core/series.py\u001b[0m in \u001b[0;36mapply\u001b[0;34m(self, func, convert_dtype, args, by_row, **kwargs)\u001b[0m\n\u001b[1;32m   4922\u001b[0m             \u001b[0margs\u001b[0m\u001b[0;34m=\u001b[0m\u001b[0margs\u001b[0m\u001b[0;34m,\u001b[0m\u001b[0;34m\u001b[0m\u001b[0;34m\u001b[0m\u001b[0m\n\u001b[1;32m   4923\u001b[0m             \u001b[0mkwargs\u001b[0m\u001b[0;34m=\u001b[0m\u001b[0mkwargs\u001b[0m\u001b[0;34m,\u001b[0m\u001b[0;34m\u001b[0m\u001b[0;34m\u001b[0m\u001b[0m\n\u001b[0;32m-> 4924\u001b[0;31m         ).apply()\n\u001b[0m\u001b[1;32m   4925\u001b[0m \u001b[0;34m\u001b[0m\u001b[0m\n\u001b[1;32m   4926\u001b[0m     def _reindex_indexer(\n",
            "\u001b[0;32m/usr/local/lib/python3.11/dist-packages/pandas/core/apply.py\u001b[0m in \u001b[0;36mapply\u001b[0;34m(self)\u001b[0m\n\u001b[1;32m   1425\u001b[0m \u001b[0;34m\u001b[0m\u001b[0m\n\u001b[1;32m   1426\u001b[0m         \u001b[0;31m# self.func is Callable\u001b[0m\u001b[0;34m\u001b[0m\u001b[0;34m\u001b[0m\u001b[0m\n\u001b[0;32m-> 1427\u001b[0;31m         \u001b[0;32mreturn\u001b[0m \u001b[0mself\u001b[0m\u001b[0;34m.\u001b[0m\u001b[0mapply_standard\u001b[0m\u001b[0;34m(\u001b[0m\u001b[0;34m)\u001b[0m\u001b[0;34m\u001b[0m\u001b[0;34m\u001b[0m\u001b[0m\n\u001b[0m\u001b[1;32m   1428\u001b[0m \u001b[0;34m\u001b[0m\u001b[0m\n\u001b[1;32m   1429\u001b[0m     \u001b[0;32mdef\u001b[0m \u001b[0magg\u001b[0m\u001b[0;34m(\u001b[0m\u001b[0mself\u001b[0m\u001b[0;34m)\u001b[0m\u001b[0;34m:\u001b[0m\u001b[0;34m\u001b[0m\u001b[0;34m\u001b[0m\u001b[0m\n",
            "\u001b[0;32m/usr/local/lib/python3.11/dist-packages/pandas/core/apply.py\u001b[0m in \u001b[0;36mapply_standard\u001b[0;34m(self)\u001b[0m\n\u001b[1;32m   1505\u001b[0m         \u001b[0;31m#  Categorical (GH51645).\u001b[0m\u001b[0;34m\u001b[0m\u001b[0;34m\u001b[0m\u001b[0m\n\u001b[1;32m   1506\u001b[0m         \u001b[0maction\u001b[0m \u001b[0;34m=\u001b[0m \u001b[0;34m\"ignore\"\u001b[0m \u001b[0;32mif\u001b[0m \u001b[0misinstance\u001b[0m\u001b[0;34m(\u001b[0m\u001b[0mobj\u001b[0m\u001b[0;34m.\u001b[0m\u001b[0mdtype\u001b[0m\u001b[0;34m,\u001b[0m \u001b[0mCategoricalDtype\u001b[0m\u001b[0;34m)\u001b[0m \u001b[0;32melse\u001b[0m \u001b[0;32mNone\u001b[0m\u001b[0;34m\u001b[0m\u001b[0;34m\u001b[0m\u001b[0m\n\u001b[0;32m-> 1507\u001b[0;31m         mapped = obj._map_values(\n\u001b[0m\u001b[1;32m   1508\u001b[0m             \u001b[0mmapper\u001b[0m\u001b[0;34m=\u001b[0m\u001b[0mcurried\u001b[0m\u001b[0;34m,\u001b[0m \u001b[0mna_action\u001b[0m\u001b[0;34m=\u001b[0m\u001b[0maction\u001b[0m\u001b[0;34m,\u001b[0m \u001b[0mconvert\u001b[0m\u001b[0;34m=\u001b[0m\u001b[0mself\u001b[0m\u001b[0;34m.\u001b[0m\u001b[0mconvert_dtype\u001b[0m\u001b[0;34m\u001b[0m\u001b[0;34m\u001b[0m\u001b[0m\n\u001b[1;32m   1509\u001b[0m         )\n",
            "\u001b[0;32m/usr/local/lib/python3.11/dist-packages/pandas/core/base.py\u001b[0m in \u001b[0;36m_map_values\u001b[0;34m(self, mapper, na_action, convert)\u001b[0m\n\u001b[1;32m    919\u001b[0m             \u001b[0;32mreturn\u001b[0m \u001b[0marr\u001b[0m\u001b[0;34m.\u001b[0m\u001b[0mmap\u001b[0m\u001b[0;34m(\u001b[0m\u001b[0mmapper\u001b[0m\u001b[0;34m,\u001b[0m \u001b[0mna_action\u001b[0m\u001b[0;34m=\u001b[0m\u001b[0mna_action\u001b[0m\u001b[0;34m)\u001b[0m\u001b[0;34m\u001b[0m\u001b[0;34m\u001b[0m\u001b[0m\n\u001b[1;32m    920\u001b[0m \u001b[0;34m\u001b[0m\u001b[0m\n\u001b[0;32m--> 921\u001b[0;31m         \u001b[0;32mreturn\u001b[0m \u001b[0malgorithms\u001b[0m\u001b[0;34m.\u001b[0m\u001b[0mmap_array\u001b[0m\u001b[0;34m(\u001b[0m\u001b[0marr\u001b[0m\u001b[0;34m,\u001b[0m \u001b[0mmapper\u001b[0m\u001b[0;34m,\u001b[0m \u001b[0mna_action\u001b[0m\u001b[0;34m=\u001b[0m\u001b[0mna_action\u001b[0m\u001b[0;34m,\u001b[0m \u001b[0mconvert\u001b[0m\u001b[0;34m=\u001b[0m\u001b[0mconvert\u001b[0m\u001b[0;34m)\u001b[0m\u001b[0;34m\u001b[0m\u001b[0;34m\u001b[0m\u001b[0m\n\u001b[0m\u001b[1;32m    922\u001b[0m \u001b[0;34m\u001b[0m\u001b[0m\n\u001b[1;32m    923\u001b[0m     \u001b[0;34m@\u001b[0m\u001b[0mfinal\u001b[0m\u001b[0;34m\u001b[0m\u001b[0;34m\u001b[0m\u001b[0m\n",
            "\u001b[0;32m/usr/local/lib/python3.11/dist-packages/pandas/core/algorithms.py\u001b[0m in \u001b[0;36mmap_array\u001b[0;34m(arr, mapper, na_action, convert)\u001b[0m\n\u001b[1;32m   1741\u001b[0m     \u001b[0mvalues\u001b[0m \u001b[0;34m=\u001b[0m \u001b[0marr\u001b[0m\u001b[0;34m.\u001b[0m\u001b[0mastype\u001b[0m\u001b[0;34m(\u001b[0m\u001b[0mobject\u001b[0m\u001b[0;34m,\u001b[0m \u001b[0mcopy\u001b[0m\u001b[0;34m=\u001b[0m\u001b[0;32mFalse\u001b[0m\u001b[0;34m)\u001b[0m\u001b[0;34m\u001b[0m\u001b[0;34m\u001b[0m\u001b[0m\n\u001b[1;32m   1742\u001b[0m     \u001b[0;32mif\u001b[0m \u001b[0mna_action\u001b[0m \u001b[0;32mis\u001b[0m \u001b[0;32mNone\u001b[0m\u001b[0;34m:\u001b[0m\u001b[0;34m\u001b[0m\u001b[0;34m\u001b[0m\u001b[0m\n\u001b[0;32m-> 1743\u001b[0;31m         \u001b[0;32mreturn\u001b[0m \u001b[0mlib\u001b[0m\u001b[0;34m.\u001b[0m\u001b[0mmap_infer\u001b[0m\u001b[0;34m(\u001b[0m\u001b[0mvalues\u001b[0m\u001b[0;34m,\u001b[0m \u001b[0mmapper\u001b[0m\u001b[0;34m,\u001b[0m \u001b[0mconvert\u001b[0m\u001b[0;34m=\u001b[0m\u001b[0mconvert\u001b[0m\u001b[0;34m)\u001b[0m\u001b[0;34m\u001b[0m\u001b[0;34m\u001b[0m\u001b[0m\n\u001b[0m\u001b[1;32m   1744\u001b[0m     \u001b[0;32melse\u001b[0m\u001b[0;34m:\u001b[0m\u001b[0;34m\u001b[0m\u001b[0;34m\u001b[0m\u001b[0m\n\u001b[1;32m   1745\u001b[0m         return lib.map_infer_mask(\n",
            "\u001b[0;32mlib.pyx\u001b[0m in \u001b[0;36mpandas._libs.lib.map_infer\u001b[0;34m()\u001b[0m\n",
            "\u001b[0;32m<ipython-input-5-9abb5896b791>\u001b[0m in \u001b[0;36mclean_text\u001b[0;34m(text)\u001b[0m\n\u001b[1;32m     32\u001b[0m \u001b[0;34m\u001b[0m\u001b[0m\n\u001b[1;32m     33\u001b[0m     \u001b[0;31m# Tokenize words\u001b[0m\u001b[0;34m\u001b[0m\u001b[0;34m\u001b[0m\u001b[0m\n\u001b[0;32m---> 34\u001b[0;31m     \u001b[0mwords\u001b[0m \u001b[0;34m=\u001b[0m \u001b[0mword_tokenize\u001b[0m\u001b[0;34m(\u001b[0m\u001b[0mtext\u001b[0m\u001b[0;34m)\u001b[0m\u001b[0;34m\u001b[0m\u001b[0;34m\u001b[0m\u001b[0m\n\u001b[0m\u001b[1;32m     35\u001b[0m \u001b[0;34m\u001b[0m\u001b[0m\n\u001b[1;32m     36\u001b[0m     \u001b[0;31m# Remove stopwords\u001b[0m\u001b[0;34m\u001b[0m\u001b[0;34m\u001b[0m\u001b[0m\n",
            "\u001b[0;32m/usr/local/lib/python3.11/dist-packages/nltk/tokenize/__init__.py\u001b[0m in \u001b[0;36mword_tokenize\u001b[0;34m(text, language, preserve_line)\u001b[0m\n\u001b[1;32m    140\u001b[0m     \u001b[0;34m:\u001b[0m\u001b[0mtype\u001b[0m \u001b[0mpreserve_line\u001b[0m\u001b[0;34m:\u001b[0m \u001b[0mbool\u001b[0m\u001b[0;34m\u001b[0m\u001b[0;34m\u001b[0m\u001b[0m\n\u001b[1;32m    141\u001b[0m     \"\"\"\n\u001b[0;32m--> 142\u001b[0;31m     \u001b[0msentences\u001b[0m \u001b[0;34m=\u001b[0m \u001b[0;34m[\u001b[0m\u001b[0mtext\u001b[0m\u001b[0;34m]\u001b[0m \u001b[0;32mif\u001b[0m \u001b[0mpreserve_line\u001b[0m \u001b[0;32melse\u001b[0m \u001b[0msent_tokenize\u001b[0m\u001b[0;34m(\u001b[0m\u001b[0mtext\u001b[0m\u001b[0;34m,\u001b[0m \u001b[0mlanguage\u001b[0m\u001b[0;34m)\u001b[0m\u001b[0;34m\u001b[0m\u001b[0;34m\u001b[0m\u001b[0m\n\u001b[0m\u001b[1;32m    143\u001b[0m     return [\n\u001b[1;32m    144\u001b[0m         \u001b[0mtoken\u001b[0m \u001b[0;32mfor\u001b[0m \u001b[0msent\u001b[0m \u001b[0;32min\u001b[0m \u001b[0msentences\u001b[0m \u001b[0;32mfor\u001b[0m \u001b[0mtoken\u001b[0m \u001b[0;32min\u001b[0m \u001b[0m_treebank_word_tokenizer\u001b[0m\u001b[0;34m.\u001b[0m\u001b[0mtokenize\u001b[0m\u001b[0;34m(\u001b[0m\u001b[0msent\u001b[0m\u001b[0;34m)\u001b[0m\u001b[0;34m\u001b[0m\u001b[0;34m\u001b[0m\u001b[0m\n",
            "\u001b[0;32m/usr/local/lib/python3.11/dist-packages/nltk/tokenize/__init__.py\u001b[0m in \u001b[0;36msent_tokenize\u001b[0;34m(text, language)\u001b[0m\n\u001b[1;32m    117\u001b[0m     \u001b[0;34m:\u001b[0m\u001b[0mparam\u001b[0m \u001b[0mlanguage\u001b[0m\u001b[0;34m:\u001b[0m \u001b[0mthe\u001b[0m \u001b[0mmodel\u001b[0m \u001b[0mname\u001b[0m \u001b[0;32min\u001b[0m \u001b[0mthe\u001b[0m \u001b[0mPunkt\u001b[0m \u001b[0mcorpus\u001b[0m\u001b[0;34m\u001b[0m\u001b[0;34m\u001b[0m\u001b[0m\n\u001b[1;32m    118\u001b[0m     \"\"\"\n\u001b[0;32m--> 119\u001b[0;31m     \u001b[0mtokenizer\u001b[0m \u001b[0;34m=\u001b[0m \u001b[0m_get_punkt_tokenizer\u001b[0m\u001b[0;34m(\u001b[0m\u001b[0mlanguage\u001b[0m\u001b[0;34m)\u001b[0m\u001b[0;34m\u001b[0m\u001b[0;34m\u001b[0m\u001b[0m\n\u001b[0m\u001b[1;32m    120\u001b[0m     \u001b[0;32mreturn\u001b[0m \u001b[0mtokenizer\u001b[0m\u001b[0;34m.\u001b[0m\u001b[0mtokenize\u001b[0m\u001b[0;34m(\u001b[0m\u001b[0mtext\u001b[0m\u001b[0;34m)\u001b[0m\u001b[0;34m\u001b[0m\u001b[0;34m\u001b[0m\u001b[0m\n\u001b[1;32m    121\u001b[0m \u001b[0;34m\u001b[0m\u001b[0m\n",
            "\u001b[0;32m/usr/local/lib/python3.11/dist-packages/nltk/tokenize/__init__.py\u001b[0m in \u001b[0;36m_get_punkt_tokenizer\u001b[0;34m(language)\u001b[0m\n\u001b[1;32m    103\u001b[0m     \u001b[0;34m:\u001b[0m\u001b[0mtype\u001b[0m \u001b[0mlanguage\u001b[0m\u001b[0;34m:\u001b[0m \u001b[0mstr\u001b[0m\u001b[0;34m\u001b[0m\u001b[0;34m\u001b[0m\u001b[0m\n\u001b[1;32m    104\u001b[0m     \"\"\"\n\u001b[0;32m--> 105\u001b[0;31m     \u001b[0;32mreturn\u001b[0m \u001b[0mPunktTokenizer\u001b[0m\u001b[0;34m(\u001b[0m\u001b[0mlanguage\u001b[0m\u001b[0;34m)\u001b[0m\u001b[0;34m\u001b[0m\u001b[0;34m\u001b[0m\u001b[0m\n\u001b[0m\u001b[1;32m    106\u001b[0m \u001b[0;34m\u001b[0m\u001b[0m\n\u001b[1;32m    107\u001b[0m \u001b[0;34m\u001b[0m\u001b[0m\n",
            "\u001b[0;32m/usr/local/lib/python3.11/dist-packages/nltk/tokenize/punkt.py\u001b[0m in \u001b[0;36m__init__\u001b[0;34m(self, lang)\u001b[0m\n\u001b[1;32m   1742\u001b[0m     \u001b[0;32mdef\u001b[0m \u001b[0m__init__\u001b[0m\u001b[0;34m(\u001b[0m\u001b[0mself\u001b[0m\u001b[0;34m,\u001b[0m \u001b[0mlang\u001b[0m\u001b[0;34m=\u001b[0m\u001b[0;34m\"english\"\u001b[0m\u001b[0;34m)\u001b[0m\u001b[0;34m:\u001b[0m\u001b[0;34m\u001b[0m\u001b[0;34m\u001b[0m\u001b[0m\n\u001b[1;32m   1743\u001b[0m         \u001b[0mPunktSentenceTokenizer\u001b[0m\u001b[0;34m.\u001b[0m\u001b[0m__init__\u001b[0m\u001b[0;34m(\u001b[0m\u001b[0mself\u001b[0m\u001b[0;34m)\u001b[0m\u001b[0;34m\u001b[0m\u001b[0;34m\u001b[0m\u001b[0m\n\u001b[0;32m-> 1744\u001b[0;31m         \u001b[0mself\u001b[0m\u001b[0;34m.\u001b[0m\u001b[0mload_lang\u001b[0m\u001b[0;34m(\u001b[0m\u001b[0mlang\u001b[0m\u001b[0;34m)\u001b[0m\u001b[0;34m\u001b[0m\u001b[0;34m\u001b[0m\u001b[0m\n\u001b[0m\u001b[1;32m   1745\u001b[0m \u001b[0;34m\u001b[0m\u001b[0m\n\u001b[1;32m   1746\u001b[0m     \u001b[0;32mdef\u001b[0m \u001b[0mload_lang\u001b[0m\u001b[0;34m(\u001b[0m\u001b[0mself\u001b[0m\u001b[0;34m,\u001b[0m \u001b[0mlang\u001b[0m\u001b[0;34m=\u001b[0m\u001b[0;34m\"english\"\u001b[0m\u001b[0;34m)\u001b[0m\u001b[0;34m:\u001b[0m\u001b[0;34m\u001b[0m\u001b[0;34m\u001b[0m\u001b[0m\n",
            "\u001b[0;32m/usr/local/lib/python3.11/dist-packages/nltk/tokenize/punkt.py\u001b[0m in \u001b[0;36mload_lang\u001b[0;34m(self, lang)\u001b[0m\n\u001b[1;32m   1747\u001b[0m         \u001b[0;32mfrom\u001b[0m \u001b[0mnltk\u001b[0m\u001b[0;34m.\u001b[0m\u001b[0mdata\u001b[0m \u001b[0;32mimport\u001b[0m \u001b[0mfind\u001b[0m\u001b[0;34m\u001b[0m\u001b[0;34m\u001b[0m\u001b[0m\n\u001b[1;32m   1748\u001b[0m \u001b[0;34m\u001b[0m\u001b[0m\n\u001b[0;32m-> 1749\u001b[0;31m         \u001b[0mlang_dir\u001b[0m \u001b[0;34m=\u001b[0m \u001b[0mfind\u001b[0m\u001b[0;34m(\u001b[0m\u001b[0;34mf\"tokenizers/punkt_tab/{lang}/\"\u001b[0m\u001b[0;34m)\u001b[0m\u001b[0;34m\u001b[0m\u001b[0;34m\u001b[0m\u001b[0m\n\u001b[0m\u001b[1;32m   1750\u001b[0m         \u001b[0mself\u001b[0m\u001b[0;34m.\u001b[0m\u001b[0m_params\u001b[0m \u001b[0;34m=\u001b[0m \u001b[0mload_punkt_params\u001b[0m\u001b[0;34m(\u001b[0m\u001b[0mlang_dir\u001b[0m\u001b[0;34m)\u001b[0m\u001b[0;34m\u001b[0m\u001b[0;34m\u001b[0m\u001b[0m\n\u001b[1;32m   1751\u001b[0m         \u001b[0mself\u001b[0m\u001b[0;34m.\u001b[0m\u001b[0m_lang\u001b[0m \u001b[0;34m=\u001b[0m \u001b[0mlang\u001b[0m\u001b[0;34m\u001b[0m\u001b[0;34m\u001b[0m\u001b[0m\n",
            "\u001b[0;32m/usr/local/lib/python3.11/dist-packages/nltk/data.py\u001b[0m in \u001b[0;36mfind\u001b[0;34m(resource_name, paths)\u001b[0m\n\u001b[1;32m    577\u001b[0m     \u001b[0msep\u001b[0m \u001b[0;34m=\u001b[0m \u001b[0;34m\"*\"\u001b[0m \u001b[0;34m*\u001b[0m \u001b[0;36m70\u001b[0m\u001b[0;34m\u001b[0m\u001b[0;34m\u001b[0m\u001b[0m\n\u001b[1;32m    578\u001b[0m     \u001b[0mresource_not_found\u001b[0m \u001b[0;34m=\u001b[0m \u001b[0;34mf\"\\n{sep}\\n{msg}\\n{sep}\\n\"\u001b[0m\u001b[0;34m\u001b[0m\u001b[0;34m\u001b[0m\u001b[0m\n\u001b[0;32m--> 579\u001b[0;31m     \u001b[0;32mraise\u001b[0m \u001b[0mLookupError\u001b[0m\u001b[0;34m(\u001b[0m\u001b[0mresource_not_found\u001b[0m\u001b[0;34m)\u001b[0m\u001b[0;34m\u001b[0m\u001b[0;34m\u001b[0m\u001b[0m\n\u001b[0m\u001b[1;32m    580\u001b[0m \u001b[0;34m\u001b[0m\u001b[0m\n\u001b[1;32m    581\u001b[0m \u001b[0;34m\u001b[0m\u001b[0m\n",
            "\u001b[0;31mLookupError\u001b[0m: \n**********************************************************************\n  Resource \u001b[93mpunkt_tab\u001b[0m not found.\n  Please use the NLTK Downloader to obtain the resource:\n\n  \u001b[31m>>> import nltk\n  >>> nltk.download('punkt_tab')\n  \u001b[0m\n  For more information see: https://www.nltk.org/data.html\n\n  Attempted to load \u001b[93mtokenizers/punkt_tab/english/\u001b[0m\n\n  Searched in:\n    - '/root/nltk_data'\n    - '/usr/nltk_data'\n    - '/usr/share/nltk_data'\n    - '/usr/lib/nltk_data'\n    - '/usr/share/nltk_data'\n    - '/usr/local/share/nltk_data'\n    - '/usr/lib/nltk_data'\n    - '/usr/local/lib/nltk_data'\n**********************************************************************\n"
          ]
        }
      ]
    },
    {
      "cell_type": "code",
      "source": [
        "!pip install spacy\n",
        "!python -m spacy download en_core_web_sm\n"
      ],
      "metadata": {
        "colab": {
          "base_uri": "https://localhost:8080/"
        },
        "id": "oGWGNhWK-rSK",
        "outputId": "10c394ce-9c12-4bce-d663-ef0cc6be9ae0"
      },
      "execution_count": null,
      "outputs": [
        {
          "output_type": "stream",
          "name": "stdout",
          "text": [
            "Requirement already satisfied: spacy in /usr/local/lib/python3.11/dist-packages (3.7.5)\n",
            "Requirement already satisfied: spacy-legacy<3.1.0,>=3.0.11 in /usr/local/lib/python3.11/dist-packages (from spacy) (3.0.12)\n",
            "Requirement already satisfied: spacy-loggers<2.0.0,>=1.0.0 in /usr/local/lib/python3.11/dist-packages (from spacy) (1.0.5)\n",
            "Requirement already satisfied: murmurhash<1.1.0,>=0.28.0 in /usr/local/lib/python3.11/dist-packages (from spacy) (1.0.12)\n",
            "Requirement already satisfied: cymem<2.1.0,>=2.0.2 in /usr/local/lib/python3.11/dist-packages (from spacy) (2.0.11)\n",
            "Requirement already satisfied: preshed<3.1.0,>=3.0.2 in /usr/local/lib/python3.11/dist-packages (from spacy) (3.0.9)\n",
            "Requirement already satisfied: thinc<8.3.0,>=8.2.2 in /usr/local/lib/python3.11/dist-packages (from spacy) (8.2.5)\n",
            "Requirement already satisfied: wasabi<1.2.0,>=0.9.1 in /usr/local/lib/python3.11/dist-packages (from spacy) (1.1.3)\n",
            "Requirement already satisfied: srsly<3.0.0,>=2.4.3 in /usr/local/lib/python3.11/dist-packages (from spacy) (2.5.1)\n",
            "Requirement already satisfied: catalogue<2.1.0,>=2.0.6 in /usr/local/lib/python3.11/dist-packages (from spacy) (2.0.10)\n",
            "Requirement already satisfied: weasel<0.5.0,>=0.1.0 in /usr/local/lib/python3.11/dist-packages (from spacy) (0.4.1)\n",
            "Requirement already satisfied: typer<1.0.0,>=0.3.0 in /usr/local/lib/python3.11/dist-packages (from spacy) (0.15.1)\n",
            "Requirement already satisfied: tqdm<5.0.0,>=4.38.0 in /usr/local/lib/python3.11/dist-packages (from spacy) (4.67.1)\n",
            "Requirement already satisfied: requests<3.0.0,>=2.13.0 in /usr/local/lib/python3.11/dist-packages (from spacy) (2.32.3)\n",
            "Requirement already satisfied: pydantic!=1.8,!=1.8.1,<3.0.0,>=1.7.4 in /usr/local/lib/python3.11/dist-packages (from spacy) (2.10.6)\n",
            "Requirement already satisfied: jinja2 in /usr/local/lib/python3.11/dist-packages (from spacy) (3.1.5)\n",
            "Requirement already satisfied: setuptools in /usr/local/lib/python3.11/dist-packages (from spacy) (75.1.0)\n",
            "Requirement already satisfied: packaging>=20.0 in /usr/local/lib/python3.11/dist-packages (from spacy) (24.2)\n",
            "Requirement already satisfied: langcodes<4.0.0,>=3.2.0 in /usr/local/lib/python3.11/dist-packages (from spacy) (3.5.0)\n",
            "Requirement already satisfied: numpy>=1.19.0 in /usr/local/lib/python3.11/dist-packages (from spacy) (1.26.4)\n",
            "Requirement already satisfied: language-data>=1.2 in /usr/local/lib/python3.11/dist-packages (from langcodes<4.0.0,>=3.2.0->spacy) (1.3.0)\n",
            "Requirement already satisfied: annotated-types>=0.6.0 in /usr/local/lib/python3.11/dist-packages (from pydantic!=1.8,!=1.8.1,<3.0.0,>=1.7.4->spacy) (0.7.0)\n",
            "Requirement already satisfied: pydantic-core==2.27.2 in /usr/local/lib/python3.11/dist-packages (from pydantic!=1.8,!=1.8.1,<3.0.0,>=1.7.4->spacy) (2.27.2)\n",
            "Requirement already satisfied: typing-extensions>=4.12.2 in /usr/local/lib/python3.11/dist-packages (from pydantic!=1.8,!=1.8.1,<3.0.0,>=1.7.4->spacy) (4.12.2)\n",
            "Requirement already satisfied: charset-normalizer<4,>=2 in /usr/local/lib/python3.11/dist-packages (from requests<3.0.0,>=2.13.0->spacy) (3.4.1)\n",
            "Requirement already satisfied: idna<4,>=2.5 in /usr/local/lib/python3.11/dist-packages (from requests<3.0.0,>=2.13.0->spacy) (3.10)\n",
            "Requirement already satisfied: urllib3<3,>=1.21.1 in /usr/local/lib/python3.11/dist-packages (from requests<3.0.0,>=2.13.0->spacy) (2.3.0)\n",
            "Requirement already satisfied: certifi>=2017.4.17 in /usr/local/lib/python3.11/dist-packages (from requests<3.0.0,>=2.13.0->spacy) (2025.1.31)\n",
            "Requirement already satisfied: blis<0.8.0,>=0.7.8 in /usr/local/lib/python3.11/dist-packages (from thinc<8.3.0,>=8.2.2->spacy) (0.7.11)\n",
            "Requirement already satisfied: confection<1.0.0,>=0.0.1 in /usr/local/lib/python3.11/dist-packages (from thinc<8.3.0,>=8.2.2->spacy) (0.1.5)\n",
            "Requirement already satisfied: click>=8.0.0 in /usr/local/lib/python3.11/dist-packages (from typer<1.0.0,>=0.3.0->spacy) (8.1.8)\n",
            "Requirement already satisfied: shellingham>=1.3.0 in /usr/local/lib/python3.11/dist-packages (from typer<1.0.0,>=0.3.0->spacy) (1.5.4)\n",
            "Requirement already satisfied: rich>=10.11.0 in /usr/local/lib/python3.11/dist-packages (from typer<1.0.0,>=0.3.0->spacy) (13.9.4)\n",
            "Requirement already satisfied: cloudpathlib<1.0.0,>=0.7.0 in /usr/local/lib/python3.11/dist-packages (from weasel<0.5.0,>=0.1.0->spacy) (0.20.0)\n",
            "Requirement already satisfied: smart-open<8.0.0,>=5.2.1 in /usr/local/lib/python3.11/dist-packages (from weasel<0.5.0,>=0.1.0->spacy) (7.1.0)\n",
            "Requirement already satisfied: MarkupSafe>=2.0 in /usr/local/lib/python3.11/dist-packages (from jinja2->spacy) (3.0.2)\n",
            "Requirement already satisfied: marisa-trie>=1.1.0 in /usr/local/lib/python3.11/dist-packages (from language-data>=1.2->langcodes<4.0.0,>=3.2.0->spacy) (1.2.1)\n",
            "Requirement already satisfied: markdown-it-py>=2.2.0 in /usr/local/lib/python3.11/dist-packages (from rich>=10.11.0->typer<1.0.0,>=0.3.0->spacy) (3.0.0)\n",
            "Requirement already satisfied: pygments<3.0.0,>=2.13.0 in /usr/local/lib/python3.11/dist-packages (from rich>=10.11.0->typer<1.0.0,>=0.3.0->spacy) (2.18.0)\n",
            "Requirement already satisfied: wrapt in /usr/local/lib/python3.11/dist-packages (from smart-open<8.0.0,>=5.2.1->weasel<0.5.0,>=0.1.0->spacy) (1.17.2)\n",
            "Requirement already satisfied: mdurl~=0.1 in /usr/local/lib/python3.11/dist-packages (from markdown-it-py>=2.2.0->rich>=10.11.0->typer<1.0.0,>=0.3.0->spacy) (0.1.2)\n",
            "Collecting en-core-web-sm==3.7.1\n",
            "  Downloading https://github.com/explosion/spacy-models/releases/download/en_core_web_sm-3.7.1/en_core_web_sm-3.7.1-py3-none-any.whl (12.8 MB)\n",
            "\u001b[2K     \u001b[90m━━━━━━━━━━━━━━━━━━━━━━━━━━━━━━━━━━━━━━━━\u001b[0m \u001b[32m12.8/12.8 MB\u001b[0m \u001b[31m108.0 MB/s\u001b[0m eta \u001b[36m0:00:00\u001b[0m\n",
            "\u001b[?25hRequirement already satisfied: spacy<3.8.0,>=3.7.2 in /usr/local/lib/python3.11/dist-packages (from en-core-web-sm==3.7.1) (3.7.5)\n",
            "Requirement already satisfied: spacy-legacy<3.1.0,>=3.0.11 in /usr/local/lib/python3.11/dist-packages (from spacy<3.8.0,>=3.7.2->en-core-web-sm==3.7.1) (3.0.12)\n",
            "Requirement already satisfied: spacy-loggers<2.0.0,>=1.0.0 in /usr/local/lib/python3.11/dist-packages (from spacy<3.8.0,>=3.7.2->en-core-web-sm==3.7.1) (1.0.5)\n",
            "Requirement already satisfied: murmurhash<1.1.0,>=0.28.0 in /usr/local/lib/python3.11/dist-packages (from spacy<3.8.0,>=3.7.2->en-core-web-sm==3.7.1) (1.0.12)\n",
            "Requirement already satisfied: cymem<2.1.0,>=2.0.2 in /usr/local/lib/python3.11/dist-packages (from spacy<3.8.0,>=3.7.2->en-core-web-sm==3.7.1) (2.0.11)\n",
            "Requirement already satisfied: preshed<3.1.0,>=3.0.2 in /usr/local/lib/python3.11/dist-packages (from spacy<3.8.0,>=3.7.2->en-core-web-sm==3.7.1) (3.0.9)\n",
            "Requirement already satisfied: thinc<8.3.0,>=8.2.2 in /usr/local/lib/python3.11/dist-packages (from spacy<3.8.0,>=3.7.2->en-core-web-sm==3.7.1) (8.2.5)\n",
            "Requirement already satisfied: wasabi<1.2.0,>=0.9.1 in /usr/local/lib/python3.11/dist-packages (from spacy<3.8.0,>=3.7.2->en-core-web-sm==3.7.1) (1.1.3)\n",
            "Requirement already satisfied: srsly<3.0.0,>=2.4.3 in /usr/local/lib/python3.11/dist-packages (from spacy<3.8.0,>=3.7.2->en-core-web-sm==3.7.1) (2.5.1)\n",
            "Requirement already satisfied: catalogue<2.1.0,>=2.0.6 in /usr/local/lib/python3.11/dist-packages (from spacy<3.8.0,>=3.7.2->en-core-web-sm==3.7.1) (2.0.10)\n",
            "Requirement already satisfied: weasel<0.5.0,>=0.1.0 in /usr/local/lib/python3.11/dist-packages (from spacy<3.8.0,>=3.7.2->en-core-web-sm==3.7.1) (0.4.1)\n",
            "Requirement already satisfied: typer<1.0.0,>=0.3.0 in /usr/local/lib/python3.11/dist-packages (from spacy<3.8.0,>=3.7.2->en-core-web-sm==3.7.1) (0.15.1)\n",
            "Requirement already satisfied: tqdm<5.0.0,>=4.38.0 in /usr/local/lib/python3.11/dist-packages (from spacy<3.8.0,>=3.7.2->en-core-web-sm==3.7.1) (4.67.1)\n",
            "Requirement already satisfied: requests<3.0.0,>=2.13.0 in /usr/local/lib/python3.11/dist-packages (from spacy<3.8.0,>=3.7.2->en-core-web-sm==3.7.1) (2.32.3)\n",
            "Requirement already satisfied: pydantic!=1.8,!=1.8.1,<3.0.0,>=1.7.4 in /usr/local/lib/python3.11/dist-packages (from spacy<3.8.0,>=3.7.2->en-core-web-sm==3.7.1) (2.10.6)\n",
            "Requirement already satisfied: jinja2 in /usr/local/lib/python3.11/dist-packages (from spacy<3.8.0,>=3.7.2->en-core-web-sm==3.7.1) (3.1.5)\n",
            "Requirement already satisfied: setuptools in /usr/local/lib/python3.11/dist-packages (from spacy<3.8.0,>=3.7.2->en-core-web-sm==3.7.1) (75.1.0)\n",
            "Requirement already satisfied: packaging>=20.0 in /usr/local/lib/python3.11/dist-packages (from spacy<3.8.0,>=3.7.2->en-core-web-sm==3.7.1) (24.2)\n",
            "Requirement already satisfied: langcodes<4.0.0,>=3.2.0 in /usr/local/lib/python3.11/dist-packages (from spacy<3.8.0,>=3.7.2->en-core-web-sm==3.7.1) (3.5.0)\n",
            "Requirement already satisfied: numpy>=1.19.0 in /usr/local/lib/python3.11/dist-packages (from spacy<3.8.0,>=3.7.2->en-core-web-sm==3.7.1) (1.26.4)\n",
            "Requirement already satisfied: language-data>=1.2 in /usr/local/lib/python3.11/dist-packages (from langcodes<4.0.0,>=3.2.0->spacy<3.8.0,>=3.7.2->en-core-web-sm==3.7.1) (1.3.0)\n",
            "Requirement already satisfied: annotated-types>=0.6.0 in /usr/local/lib/python3.11/dist-packages (from pydantic!=1.8,!=1.8.1,<3.0.0,>=1.7.4->spacy<3.8.0,>=3.7.2->en-core-web-sm==3.7.1) (0.7.0)\n",
            "Requirement already satisfied: pydantic-core==2.27.2 in /usr/local/lib/python3.11/dist-packages (from pydantic!=1.8,!=1.8.1,<3.0.0,>=1.7.4->spacy<3.8.0,>=3.7.2->en-core-web-sm==3.7.1) (2.27.2)\n",
            "Requirement already satisfied: typing-extensions>=4.12.2 in /usr/local/lib/python3.11/dist-packages (from pydantic!=1.8,!=1.8.1,<3.0.0,>=1.7.4->spacy<3.8.0,>=3.7.2->en-core-web-sm==3.7.1) (4.12.2)\n",
            "Requirement already satisfied: charset-normalizer<4,>=2 in /usr/local/lib/python3.11/dist-packages (from requests<3.0.0,>=2.13.0->spacy<3.8.0,>=3.7.2->en-core-web-sm==3.7.1) (3.4.1)\n",
            "Requirement already satisfied: idna<4,>=2.5 in /usr/local/lib/python3.11/dist-packages (from requests<3.0.0,>=2.13.0->spacy<3.8.0,>=3.7.2->en-core-web-sm==3.7.1) (3.10)\n",
            "Requirement already satisfied: urllib3<3,>=1.21.1 in /usr/local/lib/python3.11/dist-packages (from requests<3.0.0,>=2.13.0->spacy<3.8.0,>=3.7.2->en-core-web-sm==3.7.1) (2.3.0)\n",
            "Requirement already satisfied: certifi>=2017.4.17 in /usr/local/lib/python3.11/dist-packages (from requests<3.0.0,>=2.13.0->spacy<3.8.0,>=3.7.2->en-core-web-sm==3.7.1) (2025.1.31)\n",
            "Requirement already satisfied: blis<0.8.0,>=0.7.8 in /usr/local/lib/python3.11/dist-packages (from thinc<8.3.0,>=8.2.2->spacy<3.8.0,>=3.7.2->en-core-web-sm==3.7.1) (0.7.11)\n",
            "Requirement already satisfied: confection<1.0.0,>=0.0.1 in /usr/local/lib/python3.11/dist-packages (from thinc<8.3.0,>=8.2.2->spacy<3.8.0,>=3.7.2->en-core-web-sm==3.7.1) (0.1.5)\n",
            "Requirement already satisfied: click>=8.0.0 in /usr/local/lib/python3.11/dist-packages (from typer<1.0.0,>=0.3.0->spacy<3.8.0,>=3.7.2->en-core-web-sm==3.7.1) (8.1.8)\n",
            "Requirement already satisfied: shellingham>=1.3.0 in /usr/local/lib/python3.11/dist-packages (from typer<1.0.0,>=0.3.0->spacy<3.8.0,>=3.7.2->en-core-web-sm==3.7.1) (1.5.4)\n",
            "Requirement already satisfied: rich>=10.11.0 in /usr/local/lib/python3.11/dist-packages (from typer<1.0.0,>=0.3.0->spacy<3.8.0,>=3.7.2->en-core-web-sm==3.7.1) (13.9.4)\n",
            "Requirement already satisfied: cloudpathlib<1.0.0,>=0.7.0 in /usr/local/lib/python3.11/dist-packages (from weasel<0.5.0,>=0.1.0->spacy<3.8.0,>=3.7.2->en-core-web-sm==3.7.1) (0.20.0)\n",
            "Requirement already satisfied: smart-open<8.0.0,>=5.2.1 in /usr/local/lib/python3.11/dist-packages (from weasel<0.5.0,>=0.1.0->spacy<3.8.0,>=3.7.2->en-core-web-sm==3.7.1) (7.1.0)\n",
            "Requirement already satisfied: MarkupSafe>=2.0 in /usr/local/lib/python3.11/dist-packages (from jinja2->spacy<3.8.0,>=3.7.2->en-core-web-sm==3.7.1) (3.0.2)\n",
            "Requirement already satisfied: marisa-trie>=1.1.0 in /usr/local/lib/python3.11/dist-packages (from language-data>=1.2->langcodes<4.0.0,>=3.2.0->spacy<3.8.0,>=3.7.2->en-core-web-sm==3.7.1) (1.2.1)\n",
            "Requirement already satisfied: markdown-it-py>=2.2.0 in /usr/local/lib/python3.11/dist-packages (from rich>=10.11.0->typer<1.0.0,>=0.3.0->spacy<3.8.0,>=3.7.2->en-core-web-sm==3.7.1) (3.0.0)\n",
            "Requirement already satisfied: pygments<3.0.0,>=2.13.0 in /usr/local/lib/python3.11/dist-packages (from rich>=10.11.0->typer<1.0.0,>=0.3.0->spacy<3.8.0,>=3.7.2->en-core-web-sm==3.7.1) (2.18.0)\n",
            "Requirement already satisfied: wrapt in /usr/local/lib/python3.11/dist-packages (from smart-open<8.0.0,>=5.2.1->weasel<0.5.0,>=0.1.0->spacy<3.8.0,>=3.7.2->en-core-web-sm==3.7.1) (1.17.2)\n",
            "Requirement already satisfied: mdurl~=0.1 in /usr/local/lib/python3.11/dist-packages (from markdown-it-py>=2.2.0->rich>=10.11.0->typer<1.0.0,>=0.3.0->spacy<3.8.0,>=3.7.2->en-core-web-sm==3.7.1) (0.1.2)\n",
            "\u001b[38;5;2m✔ Download and installation successful\u001b[0m\n",
            "You can now load the package via spacy.load('en_core_web_sm')\n",
            "\u001b[38;5;3m⚠ Restart to reload dependencies\u001b[0m\n",
            "If you are in a Jupyter or Colab notebook, you may need to restart Python in\n",
            "order to load all the package's dependencies. You can do this by selecting the\n",
            "'Restart kernel' or 'Restart runtime' option.\n"
          ]
        }
      ]
    },
    {
      "cell_type": "code",
      "source": [
        "import pandas as pd\n",
        "import re\n",
        "import spacy\n",
        "from bs4 import BeautifulSoup\n",
        "\n",
        "# Load spaCy English NLP model\n",
        "nlp = spacy.load(\"en_core_web_sm\")\n",
        "\n",
        "# Load the dataset\n",
        "file_path = \"/content/merged_output.csv\"\n",
        "df = pd.read_csv(file_path)\n",
        "\n",
        "# Combine question and answer text\n",
        "df[\"text\"] = df[\"question_body\"].fillna(\"\") + \" \" + df[\"answer_body\"].fillna(\"\")\n",
        "\n",
        "# Function for text cleaning\n",
        "def clean_text(text):\n",
        "    # Remove HTML tags\n",
        "    text = BeautifulSoup(text, \"html.parser\").get_text()\n",
        "\n",
        "    # Remove special characters, numbers, and extra spaces\n",
        "    text = re.sub(r\"[^a-zA-Z\\s]\", \"\", text)\n",
        "\n",
        "    # Convert to lowercase\n",
        "    text = text.lower()\n",
        "\n",
        "    # Process with spaCy (tokenization, stopword removal, lemmatization)\n",
        "    doc = nlp(text)\n",
        "    words = [token.lemma_ for token in doc if not token.is_stop and not token.is_punct]\n",
        "\n",
        "    # Join words back into a single string\n",
        "    return \" \".join(words)\n",
        "\n",
        "# Apply cleaning function to the text column\n",
        "df[\"cleaned_text\"] = df[\"text\"].apply(clean_text)\n",
        "\n",
        "# Save the processed dataset\n",
        "processed_file_path = \"processed_data_ianal.csv\"\n",
        "df.to_csv(processed_file_path, index=False)\n",
        "\n",
        "print(\"Text preprocessing complete! Processed file saved as:\", processed_file_path)\n"
      ],
      "metadata": {
        "colab": {
          "base_uri": "https://localhost:8080/"
        },
        "id": "s07eTKu0-8LO",
        "outputId": "c2fbda01-01c8-43df-9c81-7e9db4e865d2"
      },
      "execution_count": null,
      "outputs": [
        {
          "output_type": "stream",
          "name": "stdout",
          "text": [
            "Text preprocessing complete! Processed file saved as: processed_data_ianal.csv\n"
          ]
        }
      ]
    },
    {
      "cell_type": "code",
      "source": [
        "import spacy\n",
        "\n",
        "try:\n",
        "    nlp = spacy.load(\"en_core_web_sm\")\n",
        "    print(\"spaCy model loaded successfully!\")\n",
        "except OSError:\n",
        "    print(\"spaCy model not found. Try reinstalling.\")\n"
      ],
      "metadata": {
        "colab": {
          "base_uri": "https://localhost:8080/"
        },
        "id": "j58Jf81MA1cF",
        "outputId": "17b74edb-44f5-4264-d657-09b05cf29d59"
      },
      "execution_count": null,
      "outputs": [
        {
          "output_type": "stream",
          "name": "stdout",
          "text": [
            "spaCy model loaded successfully!\n"
          ]
        }
      ]
    },
    {
      "cell_type": "code",
      "source": [
        "!pip install ace_tools"
      ],
      "metadata": {
        "colab": {
          "base_uri": "https://localhost:8080/"
        },
        "id": "Dsa7WYFMBZKp",
        "outputId": "2fc1679f-bd94-40a4-bae8-edf87c0d94f3"
      },
      "execution_count": null,
      "outputs": [
        {
          "output_type": "stream",
          "name": "stdout",
          "text": [
            "Collecting ace_tools\n",
            "  Downloading ace_tools-0.0-py3-none-any.whl.metadata (300 bytes)\n",
            "Downloading ace_tools-0.0-py3-none-any.whl (1.1 kB)\n",
            "Installing collected packages: ace_tools\n",
            "Successfully installed ace_tools-0.0\n"
          ]
        }
      ]
    },
    {
      "cell_type": "code",
      "source": [
        "import pandas as pd\n",
        "import spacy\n",
        "import re\n",
        "import html\n",
        "from lxml import etree\n",
        "\n",
        "# Load spaCy English NLP model\n",
        "nlp = spacy.load(\"en_core_web_sm\")\n",
        "\n",
        "# Function to remove HTML tags using lxml\n",
        "def remove_html(text):\n",
        "    if pd.isna(text):\n",
        "        return \"\"\n",
        "\n",
        "    # Decode HTML entities (e.g., &lt; becomes <, &amp; becomes &)\n",
        "    text = html.unescape(text)\n",
        "\n",
        "    # Parse with lxml to remove tags\n",
        "    parser = etree.HTMLParser()\n",
        "    tree = etree.fromstring(f\"<root>{text}</root>\", parser)\n",
        "    text = \"\".join(tree.itertext())\n",
        "\n",
        "    return text\n",
        "\n",
        "# Function for advanced text cleaning\n",
        "def clean_text(text):\n",
        "    text = remove_html(text)  # First, remove HTML\n",
        "\n",
        "    # Remove URLs\n",
        "    text = re.sub(r\"http\\S+|www\\S+|https\\S+\", \"\", text, flags=re.MULTILINE)\n",
        "\n",
        "    # Remove special characters, numbers, and extra spaces\n",
        "    text = re.sub(r\"[^a-zA-Z\\s]\", \" \", text)\n",
        "\n",
        "    # Convert to lowercase\n",
        "    text = text.lower()\n",
        "\n",
        "    # Process text using spaCy (Tokenization, Stopword Removal, Lemmatization)\n",
        "    doc = nlp(text)\n",
        "    words = [token.lemma_ for token in doc if not token.is_stop and not token.is_punct]\n",
        "\n",
        "    # Join words back into a single string\n",
        "    return \" \".join(words)\n",
        "\n",
        "# Load dataset\n",
        "file_path = \"merged_output.csv\"\n",
        "df = pd.read_csv(file_path)\n",
        "\n",
        "# Combine question and answer text and apply cleaning\n",
        "df[\"cleaned_text\"] = (df[\"question_body\"].fillna(\"\") + \" \" + df[\"answer_body\"].fillna(\"\")).apply(clean_text)\n",
        "\n",
        "# Save the processed dataset\n",
        "processed_file_path = \"processed_merged_ianal.csv\"\n",
        "df.to_csv(processed_file_path, index=False)\n",
        "\n",
        "  # Save the cleaned dataset locally\n",
        "print(\"Processed data saved as processed_merged_ianal.csv\")"
      ],
      "metadata": {
        "colab": {
          "base_uri": "https://localhost:8080/"
        },
        "id": "gaf_eH1jBU1Q",
        "outputId": "c37ca7f4-524a-45a0-9507-4db60c79821b"
      },
      "execution_count": null,
      "outputs": [
        {
          "output_type": "stream",
          "name": "stdout",
          "text": [
            "Processed data saved as processed_merged_ianal.csv\n"
          ]
        }
      ]
    },
    {
      "cell_type": "markdown",
      "source": [
        "Feature Extraction"
      ],
      "metadata": {
        "id": "S0ANgT71Gkms"
      }
    },
    {
      "cell_type": "code",
      "source": [
        "from sklearn.feature_extraction.text import TfidfVectorizer\n",
        "import pandas as pd\n",
        "\n",
        "# Load cleaned dataset\n",
        "file_path = \"processed_merged_ianal.csv\"  # Use the correct path if needed\n",
        "df = pd.read_csv(file_path)\n",
        "\n",
        "# Initialize TF-IDF Vectorizer\n",
        "tfidf_vectorizer = TfidfVectorizer(max_features=5000)  # Limit to 5000 words\n",
        "\n",
        "# Convert text to TF-IDF features\n",
        "tfidf_matrix = tfidf_vectorizer.fit_transform(df[\"cleaned_text\"])\n",
        "\n",
        "# Convert to DataFrame for visualization\n",
        "tfidf_df = pd.DataFrame(tfidf_matrix.toarray(), columns=tfidf_vectorizer.get_feature_names_out())\n",
        "\n",
        "# Save or print sample results\n",
        "tfidf_df.to_csv(\"tfidf_features.csv\", index=False)\n",
        "print(\"TF-IDF feature extraction complete. Data saved as tfidf_features.csv\")\n"
      ],
      "metadata": {
        "colab": {
          "base_uri": "https://localhost:8080/"
        },
        "id": "CCQGrQ67GjaE",
        "outputId": "93d7307a-aa44-4d03-931d-bfafec46b298"
      },
      "execution_count": null,
      "outputs": [
        {
          "output_type": "stream",
          "name": "stdout",
          "text": [
            "TF-IDF feature extraction complete. Data saved as tfidf_features.csv\n"
          ]
        }
      ]
    },
    {
      "cell_type": "code",
      "source": [
        "from sklearn.feature_extraction.text import CountVectorizer\n",
        "\n",
        "# Initialize CountVectorizer\n",
        "bow_vectorizer = CountVectorizer(max_features=5000)  # Limit vocabulary size\n",
        "\n",
        "# Convert text to BoW features\n",
        "bow_matrix = bow_vectorizer.fit_transform(df[\"cleaned_text\"])\n",
        "\n",
        "# Convert to DataFrame for visualization\n",
        "bow_df = pd.DataFrame(bow_matrix.toarray(), columns=bow_vectorizer.get_feature_names_out())\n",
        "\n",
        "# Save or print sample results\n",
        "bow_df.to_csv(\"bow_features.csv\", index=False)\n",
        "print(\"BoW feature extraction complete. Data saved as bow_features.csv\")\n"
      ],
      "metadata": {
        "colab": {
          "base_uri": "https://localhost:8080/"
        },
        "id": "ieSkag1OG40b",
        "outputId": "87c77c97-7725-4551-e8b4-e1be66a7d2f7"
      },
      "execution_count": null,
      "outputs": [
        {
          "output_type": "stream",
          "name": "stdout",
          "text": [
            "BoW feature extraction complete. Data saved as bow_features.csv\n"
          ]
        }
      ]
    },
    {
      "cell_type": "code",
      "source": [
        "from gensim.models import Word2Vec\n",
        "import numpy as np\n",
        "\n",
        "# Tokenize the text (Word2Vec expects tokenized input)\n",
        "tokenized_texts = df[\"cleaned_text\"].apply(lambda x: x.split())\n",
        "\n",
        "# Train Word2Vec model\n",
        "word2vec_model = Word2Vec(sentences=tokenized_texts, vector_size=100, window=5, min_count=5, workers=4)\n",
        "\n",
        "# Convert each document into a vector (average of word vectors)\n",
        "def document_vector(doc):\n",
        "    vectors = [word2vec_model.wv[word] for word in doc if word in word2vec_model.wv]\n",
        "    return np.mean(vectors, axis=0) if vectors else np.zeros(100)\n",
        "\n",
        "df[\"word2vec_vector\"] = df[\"cleaned_text\"].apply(lambda x: document_vector(x.split()))\n",
        "\n",
        "# Save or print sample results\n",
        "df[[\"word2vec_vector\"]].to_csv(\"word2vec_embeddings.csv\", index=False)\n",
        "print(\"Word2Vec embeddings extracted. Data saved as word2vec_embeddings.csv\")\n"
      ],
      "metadata": {
        "colab": {
          "base_uri": "https://localhost:8080/"
        },
        "id": "ykXI8namHD5g",
        "outputId": "2c20f31d-8097-40a1-8520-87ccca5b730e"
      },
      "execution_count": null,
      "outputs": [
        {
          "output_type": "stream",
          "name": "stdout",
          "text": [
            "Word2Vec embeddings extracted. Data saved as word2vec_embeddings.csv\n"
          ]
        }
      ]
    },
    {
      "cell_type": "code",
      "source": [
        "!pip install gensim scikit-learn\n"
      ],
      "metadata": {
        "colab": {
          "base_uri": "https://localhost:8080/"
        },
        "id": "58qtxQnGHTEX",
        "outputId": "af5989ba-8304-4777-fe5a-9fda39227e0c"
      },
      "execution_count": null,
      "outputs": [
        {
          "output_type": "stream",
          "name": "stdout",
          "text": [
            "Requirement already satisfied: gensim in /usr/local/lib/python3.11/dist-packages (4.3.3)\n",
            "Requirement already satisfied: scikit-learn in /usr/local/lib/python3.11/dist-packages (1.6.1)\n",
            "Requirement already satisfied: numpy<2.0,>=1.18.5 in /usr/local/lib/python3.11/dist-packages (from gensim) (1.26.4)\n",
            "Requirement already satisfied: scipy<1.14.0,>=1.7.0 in /usr/local/lib/python3.11/dist-packages (from gensim) (1.13.1)\n",
            "Requirement already satisfied: smart-open>=1.8.1 in /usr/local/lib/python3.11/dist-packages (from gensim) (7.1.0)\n",
            "Requirement already satisfied: joblib>=1.2.0 in /usr/local/lib/python3.11/dist-packages (from scikit-learn) (1.4.2)\n",
            "Requirement already satisfied: threadpoolctl>=3.1.0 in /usr/local/lib/python3.11/dist-packages (from scikit-learn) (3.5.0)\n",
            "Requirement already satisfied: wrapt in /usr/local/lib/python3.11/dist-packages (from smart-open>=1.8.1->gensim) (1.17.2)\n"
          ]
        }
      ]
    },
    {
      "cell_type": "code",
      "source": [
        "import pandas as pd\n",
        "from sklearn.feature_extraction.text import CountVectorizer\n",
        "from gensim.models.ldamodel import LdaModel\n",
        "from gensim.corpora.dictionary import Dictionary\n",
        "\n",
        "# Load cleaned dataset\n",
        "file_path = \"processed_merged_ianal.csv\"\n",
        "df = pd.read_csv(file_path)\n",
        "\n",
        "# Tokenize text for LDA\n",
        "tokenized_texts = df[\"cleaned_text\"].apply(lambda x: x.split())\n",
        "\n",
        "# Create dictionary and corpus for LDA\n",
        "dictionary = Dictionary(tokenized_texts)\n",
        "corpus = [dictionary.doc2bow(text) for text in tokenized_texts]\n",
        "\n",
        "# Define number of topics\n",
        "num_topics = 5  # You can tune this number\n",
        "\n",
        "# Train LDA model\n",
        "lda_model = LdaModel(corpus=corpus, id2word=dictionary, num_topics=num_topics, passes=10)\n",
        "\n",
        "# Display topics with top words\n",
        "topics = lda_model.print_topics(num_words=10)\n",
        "for topic_id, topic_words in topics:\n",
        "    print(f\"Topic {topic_id+1}: {topic_words}\")\n"
      ],
      "metadata": {
        "colab": {
          "base_uri": "https://localhost:8080/"
        },
        "id": "EA0G6FyrHV62",
        "outputId": "d7339bfe-10fd-4309-b423-9f81e36c3e79"
      },
      "execution_count": null,
      "outputs": [
        {
          "output_type": "stream",
          "name": "stdout",
          "text": [
            "Topic 1: 0.016*\"s\" + 0.009*\"license\" + 0.008*\"code\" + 0.007*\"modify\" + 0.007*\"source\" + 0.007*\"use\" + 0.006*\"project\" + 0.006*\"patent\" + 0.006*\"c\" + 0.005*\"bsd\"\n",
            "Topic 2: 0.030*\"license\" + 0.017*\"copyright\" + 0.014*\"s\" + 0.012*\"code\" + 0.012*\"t\" + 0.011*\"use\" + 0.011*\"work\" + 0.008*\"software\" + 0.007*\"copy\" + 0.007*\"project\"\n",
            "Topic 3: 0.036*\"license\" + 0.029*\"gpl\" + 0.024*\"code\" + 0.017*\"source\" + 0.016*\"library\" + 0.015*\"use\" + 0.013*\"work\" + 0.012*\"s\" + 0.011*\"software\" + 0.011*\"program\"\n",
            "Topic 4: 0.025*\"license\" + 0.011*\"s\" + 0.011*\"work\" + 0.011*\"patent\" + 0.011*\"cc\" + 0.010*\"t\" + 0.009*\"use\" + 0.007*\"source\" + 0.007*\"software\" + 0.007*\"sa\"\n",
            "Topic 5: 0.019*\"code\" + 0.015*\"t\" + 0.015*\"s\" + 0.013*\"company\" + 0.013*\"source\" + 0.012*\"software\" + 0.010*\"work\" + 0.008*\"use\" + 0.008*\"project\" + 0.008*\"license\"\n"
          ]
        }
      ]
    },
    {
      "cell_type": "code",
      "source": [
        "!pip install pyLDAvis\n"
      ],
      "metadata": {
        "colab": {
          "base_uri": "https://localhost:8080/"
        },
        "id": "k466iwRuHf-H",
        "outputId": "6b150532-e071-452a-8b46-46c69213c379"
      },
      "execution_count": null,
      "outputs": [
        {
          "output_type": "stream",
          "name": "stdout",
          "text": [
            "Collecting pyLDAvis\n",
            "  Downloading pyLDAvis-3.4.1-py3-none-any.whl.metadata (4.2 kB)\n",
            "Requirement already satisfied: numpy>=1.24.2 in /usr/local/lib/python3.11/dist-packages (from pyLDAvis) (1.26.4)\n",
            "Requirement already satisfied: scipy in /usr/local/lib/python3.11/dist-packages (from pyLDAvis) (1.13.1)\n",
            "Requirement already satisfied: pandas>=2.0.0 in /usr/local/lib/python3.11/dist-packages (from pyLDAvis) (2.2.2)\n",
            "Requirement already satisfied: joblib>=1.2.0 in /usr/local/lib/python3.11/dist-packages (from pyLDAvis) (1.4.2)\n",
            "Requirement already satisfied: jinja2 in /usr/local/lib/python3.11/dist-packages (from pyLDAvis) (3.1.5)\n",
            "Requirement already satisfied: numexpr in /usr/local/lib/python3.11/dist-packages (from pyLDAvis) (2.10.2)\n",
            "Collecting funcy (from pyLDAvis)\n",
            "  Downloading funcy-2.0-py2.py3-none-any.whl.metadata (5.9 kB)\n",
            "Requirement already satisfied: scikit-learn>=1.0.0 in /usr/local/lib/python3.11/dist-packages (from pyLDAvis) (1.6.1)\n",
            "Requirement already satisfied: gensim in /usr/local/lib/python3.11/dist-packages (from pyLDAvis) (4.3.3)\n",
            "Requirement already satisfied: setuptools in /usr/local/lib/python3.11/dist-packages (from pyLDAvis) (75.1.0)\n",
            "Requirement already satisfied: python-dateutil>=2.8.2 in /usr/local/lib/python3.11/dist-packages (from pandas>=2.0.0->pyLDAvis) (2.8.2)\n",
            "Requirement already satisfied: pytz>=2020.1 in /usr/local/lib/python3.11/dist-packages (from pandas>=2.0.0->pyLDAvis) (2025.1)\n",
            "Requirement already satisfied: tzdata>=2022.7 in /usr/local/lib/python3.11/dist-packages (from pandas>=2.0.0->pyLDAvis) (2025.1)\n",
            "Requirement already satisfied: threadpoolctl>=3.1.0 in /usr/local/lib/python3.11/dist-packages (from scikit-learn>=1.0.0->pyLDAvis) (3.5.0)\n",
            "Requirement already satisfied: smart-open>=1.8.1 in /usr/local/lib/python3.11/dist-packages (from gensim->pyLDAvis) (7.1.0)\n",
            "Requirement already satisfied: MarkupSafe>=2.0 in /usr/local/lib/python3.11/dist-packages (from jinja2->pyLDAvis) (3.0.2)\n",
            "Requirement already satisfied: six>=1.5 in /usr/local/lib/python3.11/dist-packages (from python-dateutil>=2.8.2->pandas>=2.0.0->pyLDAvis) (1.17.0)\n",
            "Requirement already satisfied: wrapt in /usr/local/lib/python3.11/dist-packages (from smart-open>=1.8.1->gensim->pyLDAvis) (1.17.2)\n",
            "Downloading pyLDAvis-3.4.1-py3-none-any.whl (2.6 MB)\n",
            "\u001b[2K   \u001b[90m━━━━━━━━━━━━━━━━━━━━━━━━━━━━━━━━━━━━━━━━\u001b[0m \u001b[32m2.6/2.6 MB\u001b[0m \u001b[31m27.7 MB/s\u001b[0m eta \u001b[36m0:00:00\u001b[0m\n",
            "\u001b[?25hDownloading funcy-2.0-py2.py3-none-any.whl (30 kB)\n",
            "Installing collected packages: funcy, pyLDAvis\n",
            "Successfully installed funcy-2.0 pyLDAvis-3.4.1\n"
          ]
        }
      ]
    },
    {
      "cell_type": "code",
      "source": [
        "import pyLDAvis\n",
        "import pyLDAvis.gensim_models as gensimvis\n",
        "\n",
        "# Prepare visualization\n",
        "lda_display = gensimvis.prepare(lda_model, corpus, dictionary)\n",
        "pyLDAvis.display(lda_display)\n"
      ],
      "metadata": {
        "colab": {
          "base_uri": "https://localhost:8080/",
          "height": 881
        },
        "id": "TVrSwRuaHjRv",
        "outputId": "123d6e24-276a-493b-dc0e-87e9f9307756"
      },
      "execution_count": null,
      "outputs": [
        {
          "output_type": "execute_result",
          "data": {
            "text/plain": [
              "<IPython.core.display.HTML object>"
            ],
            "text/html": [
              "\n",
              "<link rel=\"stylesheet\" type=\"text/css\" href=\"https://cdn.jsdelivr.net/gh/bmabey/pyLDAvis@3.4.0/pyLDAvis/js/ldavis.v1.0.0.css\">\n",
              "\n",
              "\n",
              "<div id=\"ldavis_el1991329288190858241047156790\" style=\"background-color:white;\"></div>\n",
              "<script type=\"text/javascript\">\n",
              "\n",
              "var ldavis_el1991329288190858241047156790_data = {\"mdsDat\": {\"x\": [-0.07079432107340267, -0.031454773023855916, -0.023908695570259778, -0.003172643803144478, 0.1293304334706628], \"y\": [0.07370163377896752, -0.004075528159824407, -0.026893140811347548, -0.0752673482220067, 0.03253438341421099], \"topics\": [1, 2, 3, 4, 5], \"cluster\": [1, 1, 1, 1, 1], \"Freq\": [37.82520848100974, 24.46527953220139, 20.31819823326602, 11.824906031868831, 5.566407721654019]}, \"tinfo\": {\"Term\": [\"gpl\", \"license\", \"s\", \"library\", \"patent\", \"cc\", \"lgpl\", \"company\", \"copyright\", \"bsd\", \"modify\", \"sa\", \"c\", \"image\", \"x\", \"contract\", \"project\", \"client\", \"version\", \"game\", \"right\", \"v\", \"file\", \"b\", \"t\", \"gplv\", \"clause\", \"algorithm\", \"power\", \"author\", \"lgpl\", \"qt\", \"dynamic\", \"avatar\", \"solaris\", \"linking\", \"tinymce\", \"ffmpeg\", \"intimate\", \"visit\", \"abcl\", \"lua\", \"native\", \"in\", \"ghostscript\", \"exec\", \"runtime\", \"french\", \"dynamically\", \"jar\", \"dll\", \"classpath\", \"clementine\", \"apk\", \"py\", \"ed\", \"statically\", \"imagemagick\", \"fsf\", \"correspond\", \"module\", \"executable\", \"independent\", \"library\", \"gpl\", \"plugin\", \"combine\", \"exception\", \"communication\", \"program\", \"link\", \"js\", \"application\", \"gnu\", \"proprietary\", \"separate\", \"distribute\", \"license\", \"code\", \"app\", \"output\", \"source\", \"file\", \"release\", \"use\", \"derivative\", \"bsd\", \"mit\", \"version\", \"gplv\", \"user\", \"work\", \"software\", \"binary\", \"s\", \"t\", \"modify\", \"licence\", \"like\", \"ianal\", \"include\", \"need\", \"free\", \"question\", \"want\", \"project\", \"nda\", \"redact\", \"employment\", \"obfuscation\", \"stm\", \"employ\", \"erp\", \"adaptor\", \"apartment\", \"gimpshop\", \"django\", \"disclosure\", \"insurance\", \"stdperiph\", \"seq\", \"contractor\", \"mosaico\", \"dashboard\", \"medical\", \"partner\", \"tivo\", \"tmp\", \"cta\", \"gojs\", \"college\", \"father\", \"quercus\", \"job\", \"contractual\", \"love\", \"employer\", \"employee\", \"hire\", \"boss\", \"contract\", \"company\", \"client\", \"house\", \"refuse\", \"sign\", \"breach\", \"agreement\", \"win\", \"previous\", \"password\", \"pay\", \"highchart\", \"organisation\", \"invention\", \"time\", \"contribute\", \"agree\", \"chance\", \"t\", \"want\", \"open\", \"code\", \"s\", \"software\", \"person\", \"project\", \"write\", \"service\", \"lawyer\", \"source\", \"ask\", \"b\", \"work\", \"right\", \"product\", \"ianal\", \"don\", \"use\", \"legal\", \"know\", \"m\", \"create\", \"case\", \"license\", \"copyright\", \"gpl\", \"question\", \"modify\", \"like\", \"need\", \"twitter\", \"taker\", \"infile\", \"axi\", \"fide\", \"css\", \"bona\", \"unlicense\", \"ogl\", \"tweet\", \"xilinx\", \"hdmi\", \"cable\", \"puzzle\", \"aac\", \"yubikey\", \"posita\", \"gist\", \"di\", \"connector\", \"aup\", \"ab\", \"xp\", \"cal\", \"notebook\", \"tomcat\", \"audacity\", \"song\", \"station\", \"fan\", \"paycheck\", \"facebook\", \"moral\", \"content\", \"fair\", \"copyright\", \"warranty\", \"mysql\", \"snippet\", \"author\", \"domain\", \"notice\", \"liable\", \"post\", \"copyrightable\", \"text\", \"repository\", \"reserve\", \"copy\", \"issue\", \"license\", \"permission\", \"licensee\", \"s\", \"t\", \"use\", \"include\", \"find\", \"legal\", \"work\", \"language\", \"project\", \"github\", \"right\", \"code\", \"need\", \"term\", \"original\", \"software\", \"m\", \"ianal\", \"file\", \"like\", \"user\", \"allow\", \"source\", \"don\", \"write\", \"open\", \"question\", \"map\", \"newlib\", \"remix\", \"openstax\", \"drauglis\", \"textbook\", \"street\", \"odbl\", \"sa\", \"rice\", \"atlas\", \"remuneration\", \"imgur\", \"deck\", \"crime\", \"falcon\", \"clientb\", \"prs\", \"zypher\", \"massachusetts\", \"billion\", \"footage\", \"epl\", \"afl\", \"kappa\", \"cc\", \"wallet\", \"brain\", \"theme\", \"osm\", \"transform\", \"artwork\", \"game\", \"nd\", \"sharealike\", \"image\", \"patent\", \"nc\", \"red\", \"material\", \"adapt\", \"attribution\", \"format\", \"license\", \"licensor\", \"graphic\", \"reasonable\", \"creative\", \"work\", \"encrypt\", \"s\", \"t\", \"state\", \"book\", \"use\", \"term\", \"trademark\", \"right\", \"open\", \"case\", \"want\", \"software\", \"file\", \"source\", \"grant\", \"don\", \"need\", \"copyright\", \"ianal\", \"include\", \"question\", \"licence\", \"free\", \"code\", \"project\", \"like\", \"liblgpl\", \"peter\", \"pin\", \"capacity\", \"mph\", \"calibration\", \"ccat\", \"rsync\", \"max\", \"resistor\", \"heif\", \"watt\", \"cat\", \"libheif\", \"appmit\", \"capacitance\", \"battery\", \"cell\", \"capacitor\", \"psu\", \"voltage\", \"cakephp\", \"slope\", \"ccap\", \"bob\", \"rootfs\", \"lipo\", \"coil\", \"rcd\", \"cracker\", \"mode\", \"power\", \"libpng\", \"cap\", \"x\", \"motor\", \"high\", \"algorithm\", \"charge\", \"range\", \"s\", \"c\", \"clause\", \"bsd\", \"v\", \"modify\", \"patent\", \"supply\", \"rate\", \"project\", \"version\", \"code\", \"license\", \"source\", \"use\", \"licence\", \"b\", \"gplv\", \"right\", \"copyright\", \"user\", \"need\", \"ianal\", \"t\", \"work\", \"change\", \"way\"], \"Freq\": [1367.0, 2672.0, 1406.0, 733.0, 297.0, 157.0, 344.0, 456.0, 696.0, 206.0, 396.0, 96.0, 216.0, 132.0, 75.0, 201.0, 640.0, 195.0, 408.0, 87.0, 382.0, 126.0, 521.0, 211.0, 1208.0, 294.0, 117.0, 68.0, 51.0, 227.0, 337.42534038981, 98.99592064091279, 35.90912556470068, 37.837815851565395, 24.177195993971193, 31.770325971788953, 20.12034659649686, 27.73428589254159, 17.130963553072633, 15.217740508327976, 14.209637079581103, 14.205218035309766, 15.13808497473118, 15.084994203414986, 30.17983173106126, 15.049971838997218, 15.973074135018111, 12.203111487294079, 32.65023836342207, 17.814527344354122, 26.240073501858628, 17.7648656480505, 10.212132992298635, 11.133021655991207, 11.085013431474465, 42.541546158072016, 17.451247379632, 11.054642630798064, 48.4929078289981, 31.340792050197244, 93.40836034200525, 75.74692358185104, 30.265831053431313, 654.7462676385239, 1167.2773517294145, 69.74313464213688, 87.93289791446756, 59.22794657653552, 45.78010082347131, 452.083462506014, 274.5525830087832, 33.80826987670827, 322.1298996252468, 129.5374892529405, 158.28230711091595, 108.88417984695567, 378.04742188201, 1446.5455047482237, 986.8581764411848, 151.21797103289623, 64.2643793631145, 689.6044592183619, 309.428079674027, 204.2067907818686, 588.6396388630397, 170.33771354072508, 139.31334056165352, 181.87729314138303, 236.88504891577008, 183.63091270808542, 281.0735187366602, 518.9763171161612, 458.49611462130224, 132.7430167588694, 478.9501994664198, 399.1343730535571, 201.39036464524278, 207.64759041256406, 213.70061241420527, 223.97759720050877, 192.85756712067558, 205.39471631348357, 189.15318905558922, 188.30180140096138, 195.53891588598432, 200.1695763618635, 27.791963033407207, 16.951782801205514, 28.5377552755363, 15.146084666121642, 10.459341375754182, 12.17146684180929, 8.597155405947557, 8.542471529963883, 7.659313336675368, 7.655433496153593, 8.462178275939461, 7.59510303942621, 6.735087927746531, 6.731295436805807, 6.728724320876636, 16.81432950046504, 6.711491387877809, 7.545146674681283, 8.397238040017355, 8.305571110978633, 5.8044168792977695, 5.79784287387178, 5.79725421365166, 5.794730190540099, 5.795883584790747, 5.795959161167395, 5.792761786720173, 45.970158258526816, 7.377087599863997, 7.320554191446783, 74.75061776303797, 48.17111552654721, 39.566352351870975, 16.268508553137927, 160.3183281246637, 350.92857948362064, 150.104716311635, 24.994787907601648, 12.58234787764545, 71.40658412879473, 21.390214019494707, 76.54248428185295, 53.7378572340539, 29.513354391107796, 38.887927144894036, 95.57834301601805, 19.489117988918913, 23.429999917054012, 20.65359728118375, 127.10561719483228, 35.65077293890059, 49.30302026113453, 20.596698523649273, 403.25347597110033, 205.94784124657284, 203.5894329406825, 500.7143163929847, 392.9184315300573, 311.32063961643087, 56.29415867427879, 212.30898106047434, 145.03652043906797, 69.71301703068569, 88.6571814915954, 330.2318998699398, 98.42812689558616, 89.02369121894282, 267.7267393607916, 125.43878666414031, 97.13305618184351, 148.17918518521242, 132.119817354202, 221.76538897828092, 113.10840434974575, 101.11555296951404, 109.61036201068754, 92.96872642976646, 103.73344573867973, 207.64410630739397, 126.79724734863181, 148.91407619962646, 105.40570865375145, 97.76831094718077, 99.4541852056648, 99.344996710229, 24.376691764266518, 22.4537078627485, 12.413706242422691, 11.465572306615117, 13.218696961721998, 14.960998193116339, 13.166643850758533, 13.904918930782554, 19.91795467336443, 8.64823158171041, 8.644697157939497, 8.579712459022481, 17.935749145492508, 7.677130514888163, 6.783297263111297, 6.752024898584603, 6.737218545782373, 6.688418517700686, 5.832911338572299, 12.34624498671028, 5.825865200160536, 5.824578349456866, 5.789315486130457, 4.881819223169204, 4.8774745250213964, 4.864795576139817, 4.8506607196974185, 4.852688771174036, 4.808274759240693, 6.4077425014284835, 8.712690185780923, 8.633497141153384, 8.520088376419091, 92.2774397940578, 17.10563203539487, 364.01459745364554, 36.98830807520368, 18.765470107432346, 15.613738073133065, 120.81468137043758, 44.085511750772795, 129.2101559188629, 19.52911002412038, 44.44849953220143, 16.10359167128688, 70.80264683130133, 45.53970855712708, 20.50898501566682, 152.78498830054238, 99.92003098373577, 646.0834706486612, 75.46541157803367, 33.282760916304824, 295.12329230984903, 250.86947562645622, 243.10533507972488, 118.40218450771673, 81.60856937426834, 103.74325937786695, 227.7875322966492, 47.16825597117198, 142.42491158490034, 44.4467938242099, 102.69652996902816, 261.30992247663414, 118.21411253899365, 103.26366273679238, 84.57833819583196, 172.2380530177859, 94.43167833673539, 111.76830259667575, 106.06814946327127, 99.3914330864548, 99.3241434108362, 79.56690251255849, 130.70493141740627, 86.81343133448684, 82.45384861353922, 86.73650289477409, 82.49763686277744, 23.591586282316243, 10.688793788288038, 10.53863131352329, 8.897227037699519, 8.86952473999522, 8.032628847256325, 7.914972829698624, 7.107343174713065, 86.00389747903792, 6.281400736270671, 6.237607477920988, 6.233409069845683, 5.443402008811749, 5.423304277815379, 5.417701627794634, 5.411046805900524, 5.384923867372507, 4.5574461244031, 4.553693035407486, 4.553208067143453, 4.5415732342715955, 4.522907279376457, 11.932874322066692, 4.519029735996659, 4.468991363991064, 132.660860753969, 4.436806872845755, 4.429654600536985, 5.187297280607762, 4.432898858333545, 14.783499421946962, 10.61854497880836, 58.687729964649385, 9.692931099128048, 14.527337789821004, 79.1990753781204, 139.94728828069168, 13.682130253253417, 9.639714551299795, 49.11160315985985, 15.410128347679699, 34.732620869939424, 30.615517118348148, 319.4775731981315, 12.886115606547545, 10.631984583811924, 19.379525671202952, 18.032659032483085, 141.5252435821504, 13.139407812517804, 144.07957913837419, 130.61283647086026, 38.248983676196545, 18.13726532868325, 109.33233799883081, 60.087369667728204, 22.01547540217358, 55.37363967504447, 65.11892164814265, 53.171764808783045, 64.15065332279624, 86.99107405985043, 62.17436175660339, 94.00907954555571, 32.108003463249005, 54.110152334018814, 53.81691871453326, 61.79223172884688, 55.62468656239034, 49.01844813549292, 49.537661546890455, 46.38884080552867, 45.53802217513257, 63.11384183714102, 49.10821682581939, 43.400781353301525, 19.26111895009267, 19.242576319371878, 13.350547569695914, 9.669195946722684, 8.951681025803493, 8.222814066348032, 7.478729485632228, 6.753846316097881, 6.746581066736283, 6.734738226387767, 6.031932843162718, 6.01649125037115, 13.352191410131867, 5.300588371460639, 5.285520410189522, 5.282942663769979, 24.94556203637277, 17.735546542946754, 5.275197672918662, 11.16318560288547, 19.59943071308623, 4.553922587974501, 4.550996441395277, 4.5504935423552615, 14.858032201885065, 4.547743324031273, 4.545528148809652, 4.542739564991889, 4.539320197154862, 4.534815535169624, 12.277280139694371, 27.516041824014142, 11.161438763195958, 8.945487245186944, 28.99779046821735, 6.752813558481685, 13.790037780649486, 24.655665452711993, 22.66810890366803, 8.622802335387318, 95.55452834115076, 34.55886533446253, 23.971307996196078, 31.6488281150027, 24.68898190925163, 42.00542379820709, 35.20217516899066, 12.738065619138277, 10.384995135109481, 36.16795423702908, 30.35713175790539, 47.78672074633814, 52.93865769173147, 40.95044875912911, 39.06613479073723, 25.993638199272944, 21.58847764059105, 22.957611463338694, 23.49686163588786, 24.9643728799149, 23.31948447840083, 23.103604955648123, 22.589391205684908, 24.454508601786433, 22.17674163242992, 20.15512482015621, 19.91767628593056], \"Total\": [1367.0, 2672.0, 1406.0, 733.0, 297.0, 157.0, 344.0, 456.0, 696.0, 206.0, 396.0, 96.0, 216.0, 132.0, 75.0, 201.0, 640.0, 195.0, 408.0, 87.0, 382.0, 126.0, 521.0, 211.0, 1208.0, 294.0, 117.0, 68.0, 51.0, 227.0, 344.6947011187836, 101.18738534887875, 37.00695745582309, 39.01465174253691, 24.983731683476357, 32.9837951929226, 20.951912106867344, 28.881367639241613, 17.950783878603914, 15.954719657727534, 14.94799461769426, 14.949104101375344, 15.947603468359986, 15.943942440230336, 31.939585633983544, 15.940545986983942, 16.936659753721294, 12.939697584826288, 34.66928527744137, 18.924595315571, 27.93062978049672, 18.933200804715952, 10.9343077121867, 11.931252088211533, 11.92217400980856, 45.79566939344569, 18.793939591789442, 11.925376232350665, 52.41291083812171, 33.8937658545043, 101.47730425259853, 82.38665242124524, 32.76615454731542, 733.2589624842399, 1367.86193176828, 77.28607320271024, 100.58238316831338, 66.68060046804392, 51.677508431298506, 591.0842333463823, 355.40268199311686, 37.761202369102385, 429.36893570518976, 163.4539749302748, 203.250069182975, 139.40996187535802, 563.3631401571882, 2672.6893125941415, 1859.7829778942828, 212.9497718794598, 78.7153438757483, 1285.5008188103927, 521.2500889845669, 322.9714549071482, 1201.9088357106134, 260.50861890715805, 206.92490625977194, 289.5921802108547, 408.34471359931166, 294.8041035160661, 513.2861597852072, 1178.1925739881822, 1037.6979292173353, 201.24590740713677, 1406.6260307858508, 1208.3246697237605, 396.61524539642926, 418.7553908919494, 469.7440482593565, 562.1391627504722, 413.5507832108881, 499.8743492328876, 409.6092841218848, 437.24454293592396, 550.15516642919, 640.1796400700866, 29.08349988584754, 17.803132724924655, 30.00909872079496, 15.93233606059248, 11.233924965195625, 13.076203904353264, 9.355535329608946, 9.356955861215873, 8.41591031916532, 8.414629315294258, 9.346133725105505, 8.418980505062189, 7.47564278536839, 7.474747047985141, 7.474108812714193, 18.688166528950234, 7.471472634848851, 8.40528524413898, 9.367567588729557, 9.328633895441852, 6.535925211410991, 6.535535430717372, 6.536507172428484, 6.533829559068861, 6.535973552267732, 6.537190384525776, 6.533769076187162, 52.21682657264222, 8.400745975464071, 8.425779993067575, 86.55561594652085, 56.14998821426747, 46.11477993858779, 18.84017688920822, 201.65737030340745, 456.7999786979196, 195.79949191757208, 30.068449162088537, 14.89604027035635, 99.01246884364868, 27.28772524368262, 115.05449669683922, 77.17285151343272, 39.42566297532226, 54.48013941536023, 158.20701631691514, 25.00607285009173, 31.283675977336515, 27.105992926029213, 239.13790034170168, 53.052366932259744, 81.01681443348471, 27.66592007870492, 1208.3246697237605, 550.15516642919, 548.1938982262055, 1859.7829778942828, 1406.6260307858508, 1037.6979292173353, 102.58746749368538, 640.1796400700866, 381.0137159566239, 137.78620040163435, 193.62826080694492, 1285.5008188103927, 229.32767587232078, 211.2249531698219, 1178.1925739881822, 382.24614031779333, 251.92904988275362, 562.1391627504722, 458.0606571682207, 1201.9088357106134, 349.5373030241809, 312.59015797009505, 403.46531081362997, 275.97461728017396, 365.02347656642115, 2672.6893125941415, 696.3485639552302, 1367.86193176828, 437.24454293592396, 396.61524539642926, 469.7440482593565, 499.8743492328876, 25.424845227854284, 23.539674073844978, 13.1688525412789, 12.22049249575448, 14.105492527269453, 16.009064682742803, 14.105282860604785, 15.071738745328128, 21.595163282833916, 9.388725203759936, 9.38974570785903, 9.389876257422516, 19.702131166838274, 8.450928194361495, 7.504827874523011, 7.5034320326111175, 7.502441344098147, 7.508407481293793, 6.560600021757354, 13.90161364895871, 6.560429934341013, 6.560271048494591, 6.5588585824431584, 5.615787047056116, 5.616194380469607, 5.617006868219679, 5.609431517319483, 5.618139373190375, 5.620655033227503, 7.524236685650226, 10.328167259365438, 10.391397097711454, 10.297447858595442, 142.7019345055281, 22.495397278231735, 696.3485639552302, 54.79038478804717, 25.348891788681385, 20.618129822108976, 227.84602103384998, 69.88068204892043, 248.92596996620694, 27.41488944183187, 74.60329274295552, 21.807096577448526, 133.7981203882324, 82.17021994156703, 30.356213995170375, 390.25737788410095, 233.93415938217757, 2672.6893125941415, 179.75418191469058, 59.97654637341001, 1406.6260307858508, 1208.3246697237605, 1201.9088357106134, 413.5507832108881, 236.13851047320082, 349.5373030241809, 1178.1925739881822, 105.10809038257916, 640.1796400700866, 98.83735960054804, 382.24614031779333, 1859.7829778942828, 499.8743492328876, 411.82813474694575, 294.7519093866855, 1037.6979292173353, 403.46531081362997, 562.1391627504722, 521.2500889845669, 469.7440482593565, 513.2861597852072, 305.9668350765149, 1285.5008188103927, 458.0606571682207, 381.0137159566239, 548.1938982262055, 437.24454293592396, 24.699644102296816, 11.462824095946155, 11.474977179899948, 9.699389147044618, 9.707772483115875, 8.82074058190594, 8.841880702665119, 7.951189800069785, 96.61914289616763, 7.058933428591712, 7.0664425498326695, 7.065676808988368, 6.177875080996305, 6.181328908602269, 6.182466185774103, 6.181674594710777, 6.179581176179188, 5.300804910667572, 5.300982518753483, 5.300938293463493, 5.3007545077112725, 5.302809621527687, 13.996932255159871, 5.304406207304222, 5.30657511143263, 157.6561930689612, 5.308067866042054, 5.299808061219419, 6.208362871190536, 5.317156309161986, 18.835303243145027, 13.47124388611027, 87.88829775784488, 12.485749677464494, 19.688655497888792, 132.6056152474611, 297.8045316291752, 19.86468318040512, 13.091307114798369, 99.2777426572674, 24.488579488082067, 85.46543416100918, 73.61333867757295, 2672.6893125941415, 22.509403762992275, 17.02122993065739, 42.391022813140665, 39.19179066632995, 1178.1925739881822, 24.240354104897143, 1406.6260307858508, 1208.3246697237605, 164.4389681631059, 42.15620313488336, 1201.9088357106134, 411.82813474694575, 62.1676664182366, 382.24614031779333, 548.1938982262055, 365.02347656642115, 550.15516642919, 1037.6979292173353, 521.2500889845669, 1285.5008188103927, 137.97478708943873, 458.0606571682207, 499.8743492328876, 696.3485639552302, 562.1391627504722, 413.5507832108881, 437.24454293592396, 418.7553908919494, 409.6092841218848, 1859.7829778942828, 640.1796400700866, 469.7440482593565, 20.11652855574257, 20.12199782514784, 14.2133740639912, 10.516879261430041, 9.774460710970187, 9.03261591230963, 8.295603730759701, 7.554761014020767, 7.5567416140010675, 7.559535160223366, 6.812358533015606, 6.816451655033469, 15.146394876202503, 6.072180991984045, 6.075368597039828, 6.076106332129131, 28.710190537944126, 20.416156728758743, 6.078277607229101, 12.87078859325429, 22.797925231787637, 5.333718394954555, 5.336828107261846, 5.336689004843191, 17.441406638847354, 5.338484735359448, 5.337904534065787, 5.338937819768006, 5.339120297231956, 5.3410980114776345, 17.301167216953665, 51.67166383047858, 16.696124106947487, 13.359889169076002, 75.28442292211693, 9.439937963411353, 28.152769435795598, 68.43343884078993, 72.54337452049617, 14.610602506495464, 1406.6260307858508, 216.48294368102543, 117.64949955883857, 206.92490625977194, 126.12488458693213, 396.61524539642926, 297.8045316291752, 33.60762175790581, 22.17356898892728, 640.1796400700866, 408.34471359931166, 1859.7829778942828, 2672.6893125941415, 1285.5008188103927, 1201.9088357106134, 418.7553908919494, 211.2249531698219, 294.8041035160661, 382.24614031779333, 696.3485639552302, 513.2861597852072, 499.8743492328876, 562.1391627504722, 1208.3246697237605, 1178.1925739881822, 298.4367213588474, 294.34905261631354], \"Category\": [\"Default\", \"Default\", \"Default\", \"Default\", \"Default\", \"Default\", \"Default\", \"Default\", \"Default\", \"Default\", \"Default\", \"Default\", \"Default\", \"Default\", \"Default\", \"Default\", \"Default\", \"Default\", \"Default\", \"Default\", \"Default\", \"Default\", \"Default\", \"Default\", \"Default\", \"Default\", \"Default\", \"Default\", \"Default\", \"Default\", \"Topic1\", \"Topic1\", \"Topic1\", \"Topic1\", \"Topic1\", \"Topic1\", \"Topic1\", \"Topic1\", \"Topic1\", \"Topic1\", \"Topic1\", \"Topic1\", \"Topic1\", \"Topic1\", \"Topic1\", \"Topic1\", \"Topic1\", \"Topic1\", \"Topic1\", \"Topic1\", \"Topic1\", \"Topic1\", \"Topic1\", \"Topic1\", \"Topic1\", \"Topic1\", \"Topic1\", \"Topic1\", \"Topic1\", \"Topic1\", \"Topic1\", \"Topic1\", \"Topic1\", \"Topic1\", \"Topic1\", \"Topic1\", \"Topic1\", \"Topic1\", \"Topic1\", \"Topic1\", \"Topic1\", \"Topic1\", \"Topic1\", \"Topic1\", \"Topic1\", \"Topic1\", \"Topic1\", \"Topic1\", \"Topic1\", \"Topic1\", \"Topic1\", \"Topic1\", \"Topic1\", \"Topic1\", \"Topic1\", \"Topic1\", \"Topic1\", \"Topic1\", \"Topic1\", \"Topic1\", \"Topic1\", \"Topic1\", \"Topic1\", \"Topic1\", \"Topic1\", \"Topic1\", \"Topic1\", \"Topic1\", \"Topic1\", \"Topic1\", \"Topic1\", \"Topic1\", \"Topic1\", \"Topic1\", \"Topic1\", \"Topic1\", \"Topic2\", \"Topic2\", \"Topic2\", \"Topic2\", \"Topic2\", \"Topic2\", \"Topic2\", \"Topic2\", \"Topic2\", \"Topic2\", \"Topic2\", \"Topic2\", \"Topic2\", \"Topic2\", \"Topic2\", \"Topic2\", \"Topic2\", \"Topic2\", \"Topic2\", \"Topic2\", \"Topic2\", \"Topic2\", \"Topic2\", \"Topic2\", \"Topic2\", \"Topic2\", \"Topic2\", \"Topic2\", \"Topic2\", \"Topic2\", \"Topic2\", \"Topic2\", \"Topic2\", \"Topic2\", \"Topic2\", \"Topic2\", \"Topic2\", \"Topic2\", \"Topic2\", \"Topic2\", \"Topic2\", \"Topic2\", \"Topic2\", \"Topic2\", \"Topic2\", \"Topic2\", \"Topic2\", \"Topic2\", \"Topic2\", \"Topic2\", \"Topic2\", \"Topic2\", \"Topic2\", \"Topic2\", \"Topic2\", \"Topic2\", \"Topic2\", \"Topic2\", \"Topic2\", \"Topic2\", \"Topic2\", \"Topic2\", \"Topic2\", \"Topic2\", \"Topic2\", \"Topic2\", \"Topic2\", \"Topic2\", \"Topic2\", \"Topic2\", \"Topic2\", \"Topic2\", \"Topic2\", \"Topic2\", \"Topic2\", \"Topic2\", \"Topic2\", \"Topic2\", \"Topic2\", \"Topic2\", \"Topic2\", \"Topic2\", \"Topic2\", \"Topic2\", \"Topic2\", \"Topic3\", \"Topic3\", \"Topic3\", \"Topic3\", \"Topic3\", \"Topic3\", \"Topic3\", \"Topic3\", \"Topic3\", \"Topic3\", \"Topic3\", \"Topic3\", \"Topic3\", \"Topic3\", \"Topic3\", \"Topic3\", \"Topic3\", \"Topic3\", \"Topic3\", \"Topic3\", \"Topic3\", \"Topic3\", \"Topic3\", \"Topic3\", \"Topic3\", \"Topic3\", \"Topic3\", \"Topic3\", \"Topic3\", \"Topic3\", \"Topic3\", \"Topic3\", \"Topic3\", \"Topic3\", \"Topic3\", \"Topic3\", \"Topic3\", \"Topic3\", \"Topic3\", \"Topic3\", \"Topic3\", \"Topic3\", \"Topic3\", \"Topic3\", \"Topic3\", \"Topic3\", \"Topic3\", \"Topic3\", \"Topic3\", \"Topic3\", \"Topic3\", \"Topic3\", \"Topic3\", \"Topic3\", \"Topic3\", \"Topic3\", \"Topic3\", \"Topic3\", \"Topic3\", \"Topic3\", \"Topic3\", \"Topic3\", \"Topic3\", \"Topic3\", \"Topic3\", \"Topic3\", \"Topic3\", \"Topic3\", \"Topic3\", \"Topic3\", \"Topic3\", \"Topic3\", \"Topic3\", \"Topic3\", \"Topic3\", \"Topic3\", \"Topic3\", \"Topic3\", \"Topic3\", \"Topic3\", \"Topic4\", \"Topic4\", \"Topic4\", \"Topic4\", \"Topic4\", \"Topic4\", \"Topic4\", \"Topic4\", \"Topic4\", \"Topic4\", \"Topic4\", \"Topic4\", \"Topic4\", \"Topic4\", \"Topic4\", \"Topic4\", \"Topic4\", \"Topic4\", \"Topic4\", \"Topic4\", \"Topic4\", \"Topic4\", \"Topic4\", \"Topic4\", \"Topic4\", \"Topic4\", \"Topic4\", \"Topic4\", \"Topic4\", \"Topic4\", \"Topic4\", \"Topic4\", \"Topic4\", \"Topic4\", \"Topic4\", \"Topic4\", \"Topic4\", \"Topic4\", \"Topic4\", \"Topic4\", \"Topic4\", \"Topic4\", \"Topic4\", \"Topic4\", \"Topic4\", \"Topic4\", \"Topic4\", \"Topic4\", \"Topic4\", \"Topic4\", \"Topic4\", \"Topic4\", \"Topic4\", \"Topic4\", \"Topic4\", \"Topic4\", \"Topic4\", \"Topic4\", \"Topic4\", \"Topic4\", \"Topic4\", \"Topic4\", \"Topic4\", \"Topic4\", \"Topic4\", \"Topic4\", \"Topic4\", \"Topic4\", \"Topic4\", \"Topic4\", \"Topic4\", \"Topic4\", \"Topic4\", \"Topic4\", \"Topic4\", \"Topic4\", \"Topic5\", \"Topic5\", \"Topic5\", \"Topic5\", \"Topic5\", \"Topic5\", \"Topic5\", \"Topic5\", \"Topic5\", \"Topic5\", \"Topic5\", \"Topic5\", \"Topic5\", \"Topic5\", \"Topic5\", \"Topic5\", \"Topic5\", \"Topic5\", \"Topic5\", \"Topic5\", \"Topic5\", \"Topic5\", \"Topic5\", \"Topic5\", \"Topic5\", \"Topic5\", \"Topic5\", \"Topic5\", \"Topic5\", \"Topic5\", \"Topic5\", \"Topic5\", \"Topic5\", \"Topic5\", \"Topic5\", \"Topic5\", \"Topic5\", \"Topic5\", \"Topic5\", \"Topic5\", \"Topic5\", \"Topic5\", \"Topic5\", \"Topic5\", \"Topic5\", \"Topic5\", \"Topic5\", \"Topic5\", \"Topic5\", \"Topic5\", \"Topic5\", \"Topic5\", \"Topic5\", \"Topic5\", \"Topic5\", \"Topic5\", \"Topic5\", \"Topic5\", \"Topic5\", \"Topic5\", \"Topic5\", \"Topic5\", \"Topic5\", \"Topic5\", \"Topic5\", \"Topic5\", \"Topic5\"], \"logprob\": [30.0, 29.0, 28.0, 27.0, 26.0, 25.0, 24.0, 23.0, 22.0, 21.0, 20.0, 19.0, 18.0, 17.0, 16.0, 15.0, 14.0, 13.0, 12.0, 11.0, 10.0, 9.0, 8.0, 7.0, 6.0, 5.0, 4.0, 3.0, 2.0, 1.0, -4.784, -6.0103, -7.0244, -6.972, -7.4199, -7.1468, -7.6036, -7.2827, -7.7645, -7.8829, -7.9514, -7.9517, -7.8881, -7.8916, -7.1982, -7.894, -7.8344, -8.1037, -7.1195, -7.7253, -7.3381, -7.7281, -8.2818, -8.1954, -8.1998, -6.8549, -7.7459, -8.2025, -6.7239, -7.1604, -6.0684, -6.2779, -7.1953, -4.1211, -3.5429, -6.3605, -6.1288, -6.524, -6.7815, -4.4915, -4.9902, -7.0846, -4.8304, -5.7414, -5.541, -5.9151, -4.6703, -3.3284, -3.7108, -5.5866, -6.4423, -4.0692, -4.8706, -5.2862, -4.2275, -5.4676, -5.6686, -5.402, -5.1378, -5.3924, -4.9667, -4.3535, -4.4774, -5.7169, -4.4338, -4.616, -5.3001, -5.2695, -5.2408, -5.1938, -5.3434, -5.2804, -5.3628, -5.3673, -5.3296, -5.3062, -6.8449, -7.3393, -6.8184, -7.4519, -7.8221, -7.6705, -8.0182, -8.0246, -8.1337, -8.1342, -8.034, -8.1421, -8.2623, -8.2629, -8.2632, -7.3474, -8.2658, -8.1487, -8.0417, -8.0527, -8.411, -8.4121, -8.4122, -8.4127, -8.4125, -8.4125, -8.413, -6.3416, -8.1712, -8.1789, -5.8555, -6.2949, -6.4916, -7.3804, -5.0925, -4.309, -5.1583, -6.951, -7.6373, -5.9012, -7.1067, -5.8318, -6.1855, -6.7848, -6.5089, -5.6097, -7.1998, -7.0156, -7.1417, -5.3246, -6.5959, -6.2716, -7.1445, -4.1701, -4.842, -4.8535, -3.9536, -4.196, -4.4288, -6.139, -4.8116, -5.1926, -5.9252, -5.6848, -4.3698, -5.5803, -5.6807, -4.5797, -5.3378, -5.5935, -5.1712, -5.2859, -4.768, -5.4413, -5.5534, -5.4727, -5.6374, -5.5278, -4.8338, -5.327, -5.1663, -5.5118, -5.587, -5.5699, -5.571, -6.7903, -6.8724, -7.4651, -7.5445, -7.4023, -7.2784, -7.4062, -7.3516, -6.9923, -7.8265, -7.8269, -7.8345, -7.0971, -7.9456, -8.0694, -8.074, -8.0762, -8.0835, -8.2204, -7.4705, -8.2216, -8.2218, -8.2279, -8.3984, -8.3993, -8.4019, -8.4048, -8.4044, -8.4136, -8.1264, -7.8191, -7.8282, -7.8415, -5.4591, -7.1445, -4.0867, -6.3733, -7.0519, -7.2357, -5.1896, -6.1978, -5.1224, -7.012, -6.1896, -7.2048, -5.724, -6.1653, -6.963, -4.9549, -5.3795, -3.513, -5.6602, -6.4788, -4.2965, -4.459, -4.4904, -5.2098, -5.582, -5.342, -4.5555, -6.1302, -5.0251, -6.1896, -5.3521, -4.4182, -5.2114, -5.3466, -5.5462, -4.835, -5.436, -5.2675, -5.3198, -5.3848, -5.3855, -5.6073, -5.1109, -5.5201, -5.5717, -5.521, -5.5711, -6.2817, -7.0734, -7.0875, -7.2568, -7.26, -7.3591, -7.3738, -7.4815, -4.9882, -7.605, -7.612, -7.6127, -7.7482, -7.7519, -7.7529, -7.7541, -7.759, -7.9258, -7.9266, -7.9267, -7.9293, -7.9334, -6.9633, -7.9343, -7.9454, -4.5548, -7.9526, -7.9543, -7.7964, -7.9535, -6.7491, -7.08, -5.3703, -7.1712, -6.7665, -5.0706, -4.5013, -6.8265, -7.1767, -5.5485, -6.7076, -5.8949, -6.0211, -3.6759, -6.8864, -7.0787, -6.4784, -6.5504, -4.4901, -6.867, -4.4722, -4.5703, -5.7985, -6.5446, -4.7482, -5.3468, -6.3508, -5.4285, -5.2664, -5.4691, -5.2813, -4.9768, -5.3126, -4.8992, -5.9735, -5.4516, -5.457, -5.3188, -5.424, -5.5504, -5.5398, -5.6055, -5.624, -5.2976, -5.5486, -5.6721, -5.731, -5.732, -6.0976, -6.4202, -6.4973, -6.5822, -6.6771, -6.779, -6.7801, -6.7818, -6.8921, -6.8946, -6.0974, -7.0213, -7.0242, -7.0246, -5.4724, -5.8136, -7.0261, -6.2765, -5.7136, -7.1731, -7.1738, -7.1739, -5.9906, -7.1745, -7.175, -7.1756, -7.1763, -7.1773, -6.1814, -5.3744, -6.2767, -6.498, -5.3219, -6.7792, -6.0652, -5.4841, -5.5682, -6.5347, -4.1294, -5.1465, -5.5123, -5.2344, -5.4828, -4.9513, -5.128, -6.1445, -6.3488, -5.1009, -5.2761, -4.8224, -4.72, -4.9768, -5.0239, -5.4313, -5.617, -5.5555, -5.5323, -5.4717, -5.5398, -5.5491, -5.5716, -5.4923, -5.5901, -5.6857, -5.6975], \"loglift\": [30.0, 29.0, 28.0, 27.0, 26.0, 25.0, 24.0, 23.0, 22.0, 21.0, 20.0, 19.0, 18.0, 17.0, 16.0, 15.0, 14.0, 13.0, 12.0, 11.0, 10.0, 9.0, 8.0, 7.0, 6.0, 5.0, 4.0, 3.0, 2.0, 1.0, 0.9509, 0.9503, 0.9421, 0.9416, 0.9394, 0.9347, 0.9317, 0.9317, 0.9254, 0.9249, 0.9215, 0.9212, 0.9201, 0.9168, 0.9155, 0.9147, 0.9136, 0.9136, 0.9122, 0.9117, 0.9098, 0.9085, 0.9039, 0.9029, 0.8994, 0.8985, 0.8981, 0.8964, 0.8945, 0.8939, 0.8893, 0.8882, 0.8928, 0.8589, 0.8136, 0.8695, 0.8378, 0.8537, 0.851, 0.7041, 0.7141, 0.8616, 0.6848, 0.7396, 0.7221, 0.7251, 0.5733, 0.3583, 0.3385, 0.6299, 0.7694, 0.3494, 0.4507, 0.5138, 0.2583, 0.5473, 0.5766, 0.5071, 0.4277, 0.4988, 0.37, 0.1523, 0.1554, 0.5561, -0.1052, -0.1355, 0.2945, 0.2707, 0.1846, 0.052, 0.2094, 0.0828, 0.1995, 0.1297, -0.0622, -0.1904, 1.3625, 1.3589, 1.3576, 1.3573, 1.3365, 1.3362, 1.3234, 1.3168, 1.3137, 1.3134, 1.3086, 1.3049, 1.3036, 1.3032, 1.3029, 1.3023, 1.3006, 1.3, 1.2986, 1.2918, 1.2892, 1.2881, 1.2879, 1.2879, 1.2877, 1.2876, 1.2875, 1.2805, 1.278, 1.2673, 1.2613, 1.2546, 1.2548, 1.2612, 1.1785, 1.1443, 1.1422, 1.2231, 1.2391, 1.0811, 1.1644, 1.0004, 1.046, 1.1183, 1.0708, 0.904, 1.1587, 1.1188, 1.136, 0.7759, 1.0104, 0.9112, 1.1128, 0.3105, 0.4253, 0.4174, 0.0957, 0.1326, 0.204, 0.8078, 0.3042, 0.4421, 0.7266, 0.6268, 0.0488, 0.5621, 0.5439, -0.0739, 0.2937, 0.4548, 0.0746, 0.1646, -0.2821, 0.2797, 0.2793, 0.1048, 0.3199, 0.1498, -1.1471, -0.2953, -0.8097, -0.0148, 0.0075, -0.1446, -0.2078, 1.5516, 1.5464, 1.5346, 1.5299, 1.5287, 1.5259, 1.5248, 1.5131, 1.5128, 1.5115, 1.511, 1.5034, 1.4997, 1.4976, 1.4926, 1.4881, 1.4861, 1.478, 1.4761, 1.475, 1.4749, 1.4747, 1.4689, 1.4536, 1.4526, 1.4499, 1.4483, 1.4472, 1.4375, 1.433, 1.4236, 1.4083, 1.4042, 1.1577, 1.3198, 0.945, 1.2007, 1.2929, 1.3156, 0.9592, 1.133, 0.9379, 1.2545, 1.0758, 1.2905, 0.9572, 1.0034, 1.2015, 0.6559, 0.743, 0.1737, 0.7257, 1.0047, 0.0321, 0.0216, -0.0045, 0.343, 0.5312, 0.379, -0.0497, 0.7924, 0.0907, 0.7945, 0.2794, -0.3689, 0.1518, 0.2103, 0.3452, -0.2022, 0.1414, -0.0217, 0.0015, 0.0405, -0.0488, 0.2468, -0.6923, -0.0696, 0.0631, -0.2501, -0.0741, 2.0891, 2.065, 2.0498, 2.0486, 2.0447, 2.0414, 2.0242, 2.0228, 2.0186, 2.0183, 2.0102, 2.0096, 2.0084, 2.0041, 2.0029, 2.0018, 1.9973, 1.9839, 1.983, 1.9829, 1.9804, 1.9759, 1.9754, 1.9747, 1.9632, 1.9623, 1.9557, 1.9556, 1.9553, 1.9531, 1.8927, 1.897, 1.7311, 1.8818, 1.831, 1.6195, 1.3798, 1.7621, 1.8289, 1.4311, 1.6718, 1.2345, 1.2576, 0.0108, 1.5772, 1.6644, 1.3522, 1.3587, 0.0157, 1.5226, -0.1436, -0.0898, 0.6765, 1.2915, -0.2623, 0.2102, 1.0969, 0.203, 0.0045, 0.2085, -0.014, -0.344, 0.0087, -0.4806, 0.677, -0.001, -0.0938, -0.2871, -0.1782, 0.0024, -0.0428, -0.0653, -0.0617, -1.2483, -0.4328, -0.2467, 2.845, 2.8437, 2.8258, 2.8044, 2.8005, 2.7945, 2.7848, 2.7764, 2.775, 2.7729, 2.7667, 2.7636, 2.7623, 2.7525, 2.7491, 2.7485, 2.7479, 2.7477, 2.7467, 2.7461, 2.7373, 2.7304, 2.7291, 2.7291, 2.7281, 2.7281, 2.7277, 2.7269, 2.7261, 2.7248, 2.5454, 2.2583, 2.4857, 2.4873, 1.9344, 2.5534, 2.1747, 1.8676, 1.7252, 2.3611, 0.1992, 1.0536, 1.2976, 1.0108, 1.2575, 0.6433, 0.7531, 1.9183, 2.1299, 0.0148, 0.2893, -0.773, -1.0333, -0.5581, -0.538, 0.109, 0.6077, 0.3358, 0.0992, -0.44, -0.2031, -0.1859, -0.3258, -1.0118, -1.0843, 0.1933, 0.1953]}, \"token.table\": {\"Topic\": [3, 3, 1, 1, 3, 4, 2, 4, 1, 2, 3, 4, 5, 1, 2, 3, 4, 5, 1, 2, 3, 4, 5, 1, 2, 3, 4, 5, 2, 1, 1, 2, 3, 4, 1, 2, 3, 4, 5, 5, 1, 4, 1, 2, 3, 4, 5, 4, 1, 2, 3, 4, 5, 3, 3, 1, 2, 3, 4, 5, 1, 3, 3, 1, 2, 3, 4, 5, 4, 5, 4, 1, 2, 3, 4, 5, 4, 5, 3, 1, 2, 3, 4, 1, 2, 3, 4, 1, 2, 3, 1, 2, 3, 4, 5, 1, 2, 3, 4, 5, 3, 4, 5, 3, 5, 3, 4, 5, 5, 5, 5, 1, 2, 3, 4, 5, 2, 5, 1, 2, 3, 4, 5, 5, 4, 5, 1, 2, 3, 4, 5, 1, 2, 3, 4, 5, 1, 2, 3, 4, 5, 1, 1, 2, 3, 4, 5, 1, 1, 2, 3, 4, 5, 4, 1, 2, 3, 4, 5, 5, 2, 1, 2, 3, 4, 5, 1, 2, 4, 1, 2, 3, 4, 5, 3, 5, 1, 2, 3, 4, 5, 1, 2, 3, 4, 5, 2, 4, 2, 1, 2, 3, 4, 5, 1, 2, 3, 4, 5, 1, 2, 3, 4, 5, 1, 3, 4, 1, 2, 3, 5, 1, 2, 3, 4, 5, 1, 2, 3, 4, 5, 4, 3, 2, 2, 4, 1, 2, 3, 4, 5, 3, 2, 1, 2, 3, 4, 5, 2, 1, 2, 1, 2, 3, 4, 1, 2, 3, 4, 5, 4, 1, 1, 5, 1, 2, 3, 2, 1, 2, 3, 4, 1, 2, 3, 4, 2, 3, 1, 2, 3, 4, 5, 3, 4, 5, 2, 1, 2, 3, 1, 1, 2, 3, 4, 5, 1, 3, 2, 3, 4, 4, 1, 3, 2, 1, 3, 1, 2, 3, 4, 5, 1, 2, 3, 4, 5, 4, 1, 2, 3, 4, 5, 1, 2, 3, 4, 5, 1, 1, 2, 4, 5, 1, 2, 3, 4, 1, 2, 2, 3, 1, 2, 3, 4, 5, 1, 2, 3, 4, 5, 2, 1, 2, 3, 4, 5, 1, 2, 3, 4, 5, 1, 2, 3, 4, 5, 1, 4, 5, 3, 5, 1, 2, 3, 4, 5, 2, 4, 1, 2, 3, 4, 1, 2, 3, 4, 1, 2, 3, 4, 5, 1, 2, 3, 4, 5, 1, 4, 1, 1, 2, 3, 4, 5, 1, 2, 5, 3, 2, 1, 2, 3, 4, 1, 2, 3, 4, 5, 1, 1, 2, 3, 5, 1, 3, 4, 4, 1, 2, 3, 4, 5, 1, 2, 3, 4, 1, 2, 3, 4, 5, 1, 2, 3, 4, 5, 1, 2, 3, 5, 1, 2, 3, 4, 5, 5, 5, 3, 5, 1, 2, 3, 4, 5, 1, 2, 3, 4, 5, 1, 2, 3, 4, 5, 1, 2, 3, 4, 5, 1, 2, 3, 4, 5, 1, 2, 3, 4, 5, 1, 2, 3, 4, 5, 1, 5, 2, 1, 1, 2, 3, 4, 5, 4, 4, 1, 2, 3, 4, 5, 5, 2, 1, 2, 3, 4, 5, 1, 3, 4, 5, 1, 2, 3, 4, 5, 1, 2, 3, 4, 5, 2, 3, 2, 3, 5, 5, 2, 3, 4, 1, 1, 2, 4, 3, 4, 2, 1, 2, 3, 4, 5, 4, 3, 1, 2, 3, 4, 5, 2, 4, 3, 4, 1, 2, 3, 4, 5, 4, 1, 2, 3, 4, 5, 1, 2, 3, 4, 5, 4, 1, 2, 3, 4, 5, 2, 2, 3, 4, 1, 2, 3, 4, 5, 1, 2, 3, 4, 2, 3, 1, 2, 3, 4, 5, 1, 2, 3, 4, 5, 5, 5, 1, 2, 4, 3, 1, 2, 3, 4, 5, 1, 2, 3, 4, 5, 1, 2, 3, 5, 1, 2, 3, 4, 5, 1, 2, 3, 4, 5, 1, 2, 3, 4, 5, 1, 2, 3, 4, 4, 4, 5, 3, 1, 1, 3, 2, 1, 2, 3, 4, 5, 1, 2, 3, 5, 1, 2, 3, 4, 5, 5, 1, 2, 3, 4, 1, 4, 5, 2, 2, 3, 1, 2, 3, 4, 5, 4, 4, 1, 2, 3, 4, 5, 1, 2, 3, 5, 4, 1, 2, 3, 4, 5, 5, 5, 1, 1, 2, 3, 4, 5, 1, 3, 4, 1, 2, 3, 4, 5, 2, 1, 2, 3, 4, 5, 3, 4, 1, 2, 3, 4, 5, 5, 2, 3, 4, 1, 2, 3, 4, 5, 1, 3, 1, 2, 3, 4, 5, 1, 2, 3, 4, 5, 1, 5, 3, 2, 2, 4, 1, 2, 3, 4, 5, 1, 2, 3, 4, 5, 3, 1, 2, 3, 4, 5, 1, 2, 3, 4, 5, 4, 4, 1, 2, 3, 4, 5, 1, 2, 2, 3, 1, 2, 3, 4, 5, 1, 2, 4, 3, 3, 1, 3, 1, 2, 3, 4, 5, 1, 2, 3, 4, 5, 1, 2, 3, 4, 5, 1, 2, 3, 4, 5, 1, 3, 4, 5, 4, 1, 2, 3, 4, 5, 2, 3, 4, 5, 5, 1, 2, 3, 4, 5, 1, 2, 3, 4, 5, 1, 2, 3, 4, 5, 1, 2, 3, 4, 5, 1, 2, 3, 4, 5, 3, 3, 3, 4], \"Freq\": [0.9327329176680023, 0.9145963567125541, 0.9365804817341787, 0.12250608498790301, 0.24501216997580602, 0.612530424939515, 0.9618512829909311, 0.9426125761475335, 0.09874493407251957, 0.6048127211941824, 0.14811740110877936, 0.11108805083158452, 0.03702935027719484, 0.04345766696259304, 0.6692480712239328, 0.14775606767281635, 0.1042984007102233, 0.03476613357007443, 0.0876764356962825, 0.014612739282713751, 0.43838217848141253, 0.10228917497899626, 0.3653184820678438, 0.40200435439102633, 0.18629470081535368, 0.26146624675839114, 0.11112315487231622, 0.03921993701375867, 0.9505804715839024, 0.9219485028623575, 0.709087399659078, 0.17844583567579447, 0.06574320261739795, 0.04226348739689869, 0.7499378115725851, 0.1304239672300148, 0.060553984785364015, 0.03493499122232539, 0.025618993563038622, 0.8229953327335904, 0.1484643895477336, 0.8165541425125349, 0.24419207052522632, 0.42733612341914606, 0.22238920708547397, 0.08285088107105894, 0.026163436127702822, 0.8490835321575038, 0.15210827778057232, 0.04680254700940687, 0.36271973932290325, 0.4095222863323101, 0.023401273504703436, 0.8913559216405755, 0.9145742062715426, 0.1887239452542895, 0.12289001086325829, 0.5310604040876519, 0.10972322398505203, 0.048278218553422896, 0.9739930590888587, 0.025631396291812072, 0.9001273887956242, 0.3882117087467083, 0.42135173266411025, 0.0520771804416316, 0.03787431304845935, 0.1041543608832632, 0.10449251446224722, 0.8707709538520603, 0.9432619436961757, 0.6608830048450637, 0.12919517387948612, 0.15404039962554114, 0.02981427089526603, 0.024845225746055025, 0.11466965029904111, 0.8600223772428083, 0.9216405036660573, 0.42698342501119085, 0.023721301389510605, 0.11860650694755302, 0.42698342501119085, 0.10615611582424227, 0.8492489265939381, 0.053078057912121133, 0.7547443140949618, 0.03664651381050936, 0.7695767900206966, 0.14658605524203744, 0.6717412732592976, 0.009665342061284858, 0.08215540752092129, 0.07732273649027886, 0.15464547298055772, 0.4018792359373552, 0.28639669687489683, 0.11086323749996006, 0.04157371406248502, 0.16167555468744174, 0.9136067488118633, 0.05075593048954796, 0.9374323182734513, 0.8903471513616383, 0.8856791961116841, 0.07485092034406167, 0.224552761032185, 0.673658283096555, 0.822895408126926, 0.8226014544076321, 0.9508524108168036, 0.3698392258762975, 0.28491318141581434, 0.1534147899931308, 0.14519614052921306, 0.04931189678350632, 0.06602231145915559, 0.8582900489690226, 0.03805749639898707, 0.006342916066497844, 0.10782957313046336, 0.8436078368442133, 0.9369105067697149, 0.8438204411867378, 0.0979616304170876, 0.8816546737537884, 0.07229110740977832, 0.7590566278026722, 0.03614555370488916, 0.07229110740977832, 0.07229110740977832, 0.4590587893346675, 0.20439843904682276, 0.17089049821947475, 0.09717302839930918, 0.06701588165469598, 0.31705169702991487, 0.16541827671125994, 0.06892428196302498, 0.15163342031865495, 0.31705169702991487, 0.9507108800914684, 0.3229932991002272, 0.15299682588958133, 0.2549947098159689, 0.06799858928425837, 0.2039957678527751, 0.9145526413944453, 0.051072655511332034, 0.7660898326699805, 0.06639445216473165, 0.07660898326699805, 0.040858124409065624, 0.809116323169895, 0.5307070834240665, 0.2693862703094806, 0.14033895519116651, 0.03387492021855744, 0.02580946302366281, 0.936515870532702, 0.9179963707041363, 0.8749047022751671, 0.029826296668471607, 0.01988419777898107, 0.04971049444745267, 0.01988419777898107, 0.8901357940109218, 0.07740311252268885, 0.01935077813067221, 0.10070053009004114, 0.7683888274261834, 0.09851138813156197, 0.02189141958479155, 0.010945709792395775, 0.8632091426953771, 0.07193409522461475, 0.07007613480959932, 0.06306852132863938, 0.6447004402483137, 0.18920556398591817, 0.028030453923839727, 0.024794531399854887, 0.7934250047953564, 0.1090959381593615, 0.05454796907968075, 0.019835625119883907, 0.9096665514867358, 0.05350979714627858, 0.833259334402539, 0.0753972015067193, 0.6785748135604738, 0.1319451026367588, 0.09424650188339914, 0.03769860075335965, 0.2793028554411364, 0.19218086383564434, 0.3920489622247144, 0.08968440312330068, 0.04612340732055464, 0.17089142731060586, 0.18237992662560457, 0.5227267188324415, 0.08903586969124003, 0.035901560359370976, 0.18342652749731655, 0.7337061099892662, 0.04585663187432914, 0.9146224746188911, 0.02950395079415778, 0.02950395079415778, 0.9361370993858118, 0.37322272973906406, 0.3369875132595433, 0.1811760823976039, 0.09783508449470611, 0.007247043295904156, 0.07654664277887484, 0.07654664277887484, 0.35721766630141594, 0.45927985667324905, 0.025515547592958283, 0.8087387540436589, 0.9369691669850932, 0.9179214283292589, 0.9517820951500027, 0.8088875505462477, 0.6525695798977992, 0.057579668814511695, 0.1765776510311692, 0.10748204845375517, 0.007677289175268226, 0.914550495397037, 0.9502338193074252, 0.670970415094128, 0.10295313247476039, 0.1278038885893577, 0.07632732235197752, 0.021300648098226287, 0.8559689209785719, 0.9308776853343697, 0.035802987897475755, 0.14310106465474154, 0.1287909581892674, 0.6296446844808629, 0.08586063879284493, 0.38204547206011635, 0.28817144178248777, 0.18993117753845784, 0.11788831709283591, 0.02183116983200665, 0.9270921847059292, 0.9727900501675897, 0.9518511770841859, 0.028843975063157147, 0.9389534113056155, 0.02183612584431664, 0.02183612584431664, 0.9176975281033222, 0.017809442740825087, 0.8548532515596041, 0.07123777096330035, 0.05342832822247526, 0.06931959219962287, 0.8664949024952859, 0.023106530733207627, 0.03465979609981144, 0.9663735745553831, 0.03332322670880632, 0.041253522769206394, 0.28877465938444474, 0.08250704553841279, 0.5362957959996831, 0.041253522769206394, 0.07144422661839754, 0.8573307194207705, 0.07144422661839754, 0.9619973291657905, 0.8848150674389206, 0.07498432774906107, 0.014996865549812213, 0.9409966266053915, 0.9224795250984332, 0.01213788848813728, 0.01213788848813728, 0.03641366546441184, 0.01213788848813728, 0.09623345067048152, 0.8661010560343336, 0.13336061430233237, 0.7557101477132168, 0.04445353810077746, 0.8088423166560963, 0.13290384683234915, 0.7974230809940949, 0.9178254949102655, 0.9694831750957636, 0.9216268042301778, 0.5928056541955791, 0.047961622507732934, 0.20335727943278764, 0.11894482381917769, 0.03645083310587703, 0.275262175024928, 0.254088161561472, 0.3472538208006784, 0.0804612511611328, 0.0465828296196032, 0.9428963807604221, 0.4890418047424843, 0.01358449457618012, 0.02716898915236024, 0.4211193318615837, 0.04075348372854036, 0.46141532266578333, 0.2197215822218016, 0.1806599676045924, 0.11230214202447637, 0.026854860049331304, 0.9273787058263075, 0.9158048891474264, 0.019079268523904718, 0.019079268523904718, 0.038158537047809436, 0.12515886961774889, 0.02275615811231798, 0.18204926489854384, 0.6713066643133805, 0.9392733000292954, 0.03130911000097651, 0.950725183515733, 0.9322882405409638, 0.23270552848593568, 0.28329368685244344, 0.44517579362526827, 0.020235263346603104, 0.010117631673301552, 0.7953309184157473, 0.07341516169991515, 0.09788688226655352, 0.01223586028331919, 0.018353790424978787, 0.918297599555851, 0.853156282002366, 0.10892912255214443, 0.013890290795239893, 0.014621358731831466, 0.009503883175690453, 0.6241432795726755, 0.13568332164623378, 0.14925165381085717, 0.016960415205779223, 0.07801790994658443, 0.2971557402978471, 0.10871551474311478, 0.3116511422635957, 0.2319264314519782, 0.043486205897245916, 0.2350006442716277, 0.6462517717469762, 0.058750161067906925, 0.9584790846296481, 0.8807522344752455, 0.03552048413143053, 0.14208193652572212, 0.24864338892001372, 0.07104096826286106, 0.49728677784002745, 0.7598154301918024, 0.19995142899784277, 0.08674008648261795, 0.8674008648261795, 0.02168502162065449, 0.04337004324130898, 0.06651490368587673, 0.8314362960734591, 0.06651490368587673, 0.033257451842938365, 0.3984778411523541, 0.26328000218994824, 0.19923892057617704, 0.09961946028808852, 0.04091513547546493, 0.27902287494351347, 0.015082317564514242, 0.0678704290403141, 0.5957515437983125, 0.04524695269354273, 0.922402764129123, 0.8093397704625731, 0.9407961710995302, 0.46668996368840304, 0.10397755667669083, 0.2853337601825469, 0.11848605295715932, 0.02659890984752556, 0.9155789080064002, 0.030519296933546675, 0.030519296933546675, 0.9112411246450645, 0.9363743294022373, 0.9470338518343379, 0.7747364229492667, 0.147568842466527, 0.0737844212332635, 0.23938359471697743, 0.21373535242587272, 0.42747070485174543, 0.07267001982479672, 0.047021777533691994, 0.9511431922240233, 0.019150914860918158, 0.8809420836022352, 0.05745274458275447, 0.038301829721836315, 0.9003950580720931, 0.052964415180711356, 0.026482207590355678, 0.7537818491219113, 0.33270401306092784, 0.3231067819149395, 0.2175372393090682, 0.08637508031389472, 0.04158800163261598, 0.3234765266521789, 0.14271023234654953, 0.4471587280191885, 0.07611212391815975, 0.2840494449043117, 0.4596436472087953, 0.16526513158069045, 0.07746803042844864, 0.01549360608568973, 0.24603954787066185, 0.3232845222021487, 0.29753619742498644, 0.08010589930672711, 0.05149664955432458, 0.9776767641225446, 0.011604471977715664, 0.005802235988857832, 0.002901117994428916, 0.0729530572882135, 0.03647652864410675, 0.7295305728821351, 0.0729530572882135, 0.10942958593232026, 0.8234273659827592, 0.9444969566867023, 0.2994707015815384, 0.6588355434793844, 0.8932724092193801, 0.050459662810865745, 0.050459662810865745, 0.004091324011691817, 0.0013637746705639391, 0.4967100233789464, 0.13850567959605234, 0.19104231668421012, 0.10984933209342083, 0.0620887529223683, 0.5414022472352111, 0.07782423457147472, 0.24170411314025322, 0.11935543667452134, 0.019830213616770002, 0.2834441298796887, 0.08336592055284962, 0.5502150756488076, 0.0666927364422797, 0.016673184110569925, 0.044425876870363874, 0.08885175374072775, 0.26655526122218326, 0.5775363993147303, 0.044425876870363874, 0.45556724091125833, 0.21075306939352603, 0.21075306939352603, 0.09153921195880424, 0.02980346435868045, 0.7737701878269055, 0.03657822706090826, 0.11817581050447284, 0.05064677593048836, 0.02250967819132816, 0.970173377952162, 0.9366971567383182, 0.8307836195295089, 0.9365109711632803, 0.37177917401996546, 0.2726380609479747, 0.2329816157191784, 0.0817914182843924, 0.04213497305559609, 0.9716739196970148, 0.9432292404092733, 0.12087301422059044, 0.07050925829534442, 0.2820370331813777, 0.493564808067411, 0.03021825355514761, 0.9263251752621076, 0.8540103846835411, 0.6284700086427891, 0.03798445107181693, 0.2520786298402396, 0.06906263831239441, 0.013812527662478882, 0.05779956851813359, 0.17339870555440076, 0.05779956851813359, 0.693594822217603, 0.5067883858047217, 0.24709085477046136, 0.08320406334107373, 0.05799071081347563, 0.10589608061591202, 0.9164610814700327, 0.03941768092344227, 0.019708840461721135, 0.009854420230860568, 0.009854420230860568, 0.09711144098343594, 0.8740029688509234, 0.9368969602257816, 0.21186579909231215, 0.7415302968230925, 0.9207669114572239, 0.19724728172268918, 0.749539670546219, 0.03944945634453784, 0.9405801962508016, 0.15102178941163552, 0.15102178941163552, 0.7047683505876324, 0.16018261231120118, 0.8009130615560058, 0.9627452029466788, 0.4101030595280497, 0.19804977021110692, 0.2360593220698042, 0.1080271473878765, 0.04601156277631777, 0.9596239031435688, 0.8902825759356849, 0.3012943969252451, 0.08837968976473858, 0.5182263627114216, 0.05222436213370916, 0.04017258625669935, 0.9414815217902321, 0.8803713879322266, 0.9261333076327366, 0.04630666538163683, 0.33382348944804796, 0.37213110299126656, 0.15870297039333428, 0.11857118477662906, 0.018241720734866008, 0.9278934852038883, 0.03196555292045765, 0.7352077171705259, 0.03196555292045765, 0.1278622116818306, 0.0639311058409153, 0.3087342171569004, 0.234095175646441, 0.2883781149267751, 0.1051731948556474, 0.06785367410041768, 0.7522818152078029, 0.8130562206654857, 0.050816013791592854, 0.025408006895796427, 0.050816013791592854, 0.06352001723949106, 0.8575746555890624, 0.715857198944764, 0.2569743791083768, 0.018355312793455484, 0.10409512518298766, 0.20819025036597533, 0.10073721791902032, 0.47010701695542817, 0.11752675423885704, 0.1516999723446145, 0.606799889378458, 0.13273747580153766, 0.10745414707743527, 0.09682259929448896, 0.8714033936504006, 0.3949838565296681, 0.12238936399510841, 0.4172364681651423, 0.033378917453211386, 0.027815764544342824, 0.1169733525270876, 0.5458756451264088, 0.2631900431859471, 0.0487388968862865, 0.0097477793772573, 0.9442402372320305, 0.9146315253135273, 0.9057259231737661, 0.01293894175962523, 0.07763365055775139, 0.9330296204856842, 0.16085080911034066, 0.12063810683275548, 0.5897863000712491, 0.05361693637011355, 0.05361693637011355, 0.05805890071282062, 0.251588569755556, 0.07741186761709415, 0.05805890071282062, 0.5418830733196591, 0.10145675933220764, 0.7609256949915573, 0.12682094916525954, 0.02536418983305191, 0.3731209244973816, 0.38502903910900016, 0.127019889190598, 0.08335680228132994, 0.027785600760443313, 0.7646964248073974, 0.13365269371633715, 0.07613128123082497, 0.01691806249573888, 0.00845903124786944, 0.3124123097355987, 0.33115704831973464, 0.22181273991227507, 0.07654101588522168, 0.056234215752407765, 0.7773675090745538, 0.18204175845416765, 0.00984009505157663, 0.02952028515472989, 0.943252974644998, 0.07769531701609256, 0.8546484871770181, 0.9466415778254563, 0.9226505158329452, 0.9783828256720245, 0.009882654804767924, 0.9183061002060012, 0.42996534327828184, 0.240140218320317, 0.18753807525967614, 0.11435248491443667, 0.0274445963794648, 0.0684434471169432, 0.0684434471169432, 0.2737737884677728, 0.6159910240524887, 0.04509873897609202, 0.13529621692827606, 0.09019747795218404, 0.27059243385655213, 0.4509873897609202, 0.9364838628176684, 0.18871920206464338, 0.25948890283888465, 0.07076970077424126, 0.448208104903528, 0.0763865663856899, 0.7638656638568989, 0.1527731327713798, 0.954888123492993, 0.8727151487278443, 0.06713193451752648, 0.6316347680281789, 0.17338993632146088, 0.11765745678956274, 0.05263623066901491, 0.02167374204018261, 0.9586075708514752, 0.8491755513593967, 0.1703780275865842, 0.219057464039894, 0.5598135192130624, 0.036509577339982335, 0.02433971822665489, 0.19765310657496982, 0.09882655328748491, 0.6917858730123944, 0.9259828615961048, 0.8499867665131142, 0.19620865219893704, 0.32701442033156175, 0.2694598823532069, 0.14388634494588717, 0.06017065334100736, 0.9365953538993013, 0.9265680260446102, 0.9446963115902772, 0.34053116430128433, 0.27939195734948796, 0.20972169826488282, 0.10237262559370552, 0.06824841706247034, 0.010349915865789207, 0.09314924279210288, 0.8900927644578719, 0.7818666509460307, 0.035865442703946364, 0.09325015103026055, 0.08607706248947126, 0.007173088540789273, 0.9365665091859932, 0.16692527940357652, 0.5080334590543633, 0.2612743503708154, 0.05080334590543633, 0.014515241687267522, 0.20316267915952507, 0.7618600468482191, 0.14139633284074052, 0.7170814022637555, 0.04039895224021158, 0.05049869030026448, 0.04039895224021158, 0.9368860865495138, 0.14550301244020092, 0.7760160663477382, 0.04850100414673364, 0.4413615823107965, 0.2997018604774186, 0.16575151126082313, 0.08383942720750938, 0.008673044193880281, 0.9606251101340888, 0.8899743612377933, 0.5367557841297438, 0.25670928806205134, 0.10190580829129918, 0.07312325175100857, 0.031894184274376076, 0.1520320899557255, 0.297982896313222, 0.291901612714993, 0.23108877673270278, 0.024325134392916083, 0.9045469108258087, 0.053208641813282866, 0.8895760316976598, 0.9364865399541364, 0.8901608325657766, 0.904784883332416, 0.2975515516103907, 0.14877577580519535, 0.0892654654831172, 0.0892654654831172, 0.3868170170935079, 0.3302092641137724, 0.33351963267631646, 0.20772562729964125, 0.10841457042331874, 0.019862211375264505, 0.9345923792736062, 0.4079371607363111, 0.15783283004678703, 0.2501043306895241, 0.1456918431201111, 0.036422960780027776, 0.2765360222747506, 0.06726551893169609, 0.5306502049056026, 0.11958314476745972, 0.007473946547966233, 0.9069533250315136, 0.8053652957693795, 0.19653931866442828, 0.5310743291570722, 0.10454219077895122, 0.10872387841010926, 0.058543626836212684, 0.9545668146175862, 0.9180031603673607, 0.9180579102669497, 0.8901537985095538, 0.03217106440098432, 0.09651319320295297, 0.43430936941328835, 0.35388170841082756, 0.0804276610024608, 0.1592753756747627, 0.05309179189158756, 0.7963768783738133, 0.9585965937522315, 0.9439585486131774, 0.0663493454137782, 0.9288908357928948, 0.49005380649503355, 0.18470618852614168, 0.2021783955488848, 0.0906890745466191, 0.032448384470808674, 0.5474529064208334, 0.1694960955822509, 0.19287486738669932, 0.04480931262519277, 0.04480931262519277, 0.4915762674673944, 0.11892974212920833, 0.09514379370336666, 0.09514379370336666, 0.1982162368820139, 0.5803919877178974, 0.173872705181311, 0.1028542763044375, 0.06856951753629167, 0.07346734021745537, 0.94016067482169, 0.08772728130590397, 0.043863640652951986, 0.8772728130590397, 0.753569867783659, 0.35626312713220154, 0.3744398172920077, 0.12541916210266277, 0.11633081702275969, 0.02908270425568992, 0.1825137757050678, 0.6753009701087509, 0.0912568878525339, 0.03650275514101356, 0.880223363070348, 0.35332201369632016, 0.24460754794360628, 0.2242235856149724, 0.1121117928074862, 0.06794654109544619, 0.14253717187170853, 0.6997279346429327, 0.06478962357804932, 0.0777475482936592, 0.012957924715609866, 0.4405052378179442, 0.22746705922005597, 0.19351675187377895, 0.12052359107928338, 0.018672669040452356, 0.34644422096087324, 0.3805637275706562, 0.21521534938478487, 0.052491548630435335, 0.002624577431521767, 0.30550808663027024, 0.25237624547717974, 0.05313184115309047, 0.013282960288272617, 0.3852058483599059, 0.958492410765414, 0.9147933172489617, 0.932906431293957, 0.9432213711913431], \"Term\": [\"aac\", \"ab\", \"abcl\", \"adapt\", \"adapt\", \"adapt\", \"adaptor\", \"afl\", \"agree\", \"agree\", \"agree\", \"agree\", \"agree\", \"agreement\", \"agreement\", \"agreement\", \"agreement\", \"agreement\", \"algorithm\", \"algorithm\", \"algorithm\", \"algorithm\", \"algorithm\", \"allow\", \"allow\", \"allow\", \"allow\", \"allow\", \"apartment\", \"apk\", \"app\", \"app\", \"app\", \"app\", \"application\", \"application\", \"application\", \"application\", \"application\", \"appmit\", \"artwork\", \"artwork\", \"ask\", \"ask\", \"ask\", \"ask\", \"ask\", \"atlas\", \"attribution\", \"attribution\", \"attribution\", \"attribution\", \"attribution\", \"audacity\", \"aup\", \"author\", \"author\", \"author\", \"author\", \"author\", \"avatar\", \"avatar\", \"axi\", \"b\", \"b\", \"b\", \"b\", \"b\", \"battery\", \"battery\", \"billion\", \"binary\", \"binary\", \"binary\", \"binary\", \"binary\", \"bob\", \"bob\", \"bona\", \"book\", \"book\", \"book\", \"book\", \"boss\", \"boss\", \"boss\", \"brain\", \"breach\", \"breach\", \"breach\", \"bsd\", \"bsd\", \"bsd\", \"bsd\", \"bsd\", \"c\", \"c\", \"c\", \"c\", \"c\", \"cable\", \"cable\", \"cakephp\", \"cal\", \"calibration\", \"cap\", \"cap\", \"cap\", \"capacitance\", \"capacitor\", \"capacity\", \"case\", \"case\", \"case\", \"case\", \"case\", \"cat\", \"cat\", \"cc\", \"cc\", \"cc\", \"cc\", \"ccap\", \"ccat\", \"cell\", \"cell\", \"chance\", \"chance\", \"chance\", \"chance\", \"chance\", \"change\", \"change\", \"change\", \"change\", \"change\", \"charge\", \"charge\", \"charge\", \"charge\", \"charge\", \"classpath\", \"clause\", \"clause\", \"clause\", \"clause\", \"clause\", \"clementine\", \"client\", \"client\", \"client\", \"client\", \"client\", \"clientb\", \"code\", \"code\", \"code\", \"code\", \"code\", \"coil\", \"college\", \"combine\", \"combine\", \"combine\", \"combine\", \"combine\", \"communication\", \"communication\", \"communication\", \"company\", \"company\", \"company\", \"company\", \"company\", \"connector\", \"connector\", \"content\", \"content\", \"content\", \"content\", \"content\", \"contract\", \"contract\", \"contract\", \"contract\", \"contract\", \"contractor\", \"contractor\", \"contractual\", \"contribute\", \"contribute\", \"contribute\", \"contribute\", \"contribute\", \"copy\", \"copy\", \"copy\", \"copy\", \"copy\", \"copyright\", \"copyright\", \"copyright\", \"copyright\", \"copyright\", \"copyrightable\", \"copyrightable\", \"copyrightable\", \"correspond\", \"correspond\", \"correspond\", \"cracker\", \"create\", \"create\", \"create\", \"create\", \"create\", \"creative\", \"creative\", \"creative\", \"creative\", \"creative\", \"crime\", \"css\", \"cta\", \"dashboard\", \"deck\", \"derivative\", \"derivative\", \"derivative\", \"derivative\", \"derivative\", \"di\", \"disclosure\", \"distribute\", \"distribute\", \"distribute\", \"distribute\", \"distribute\", \"django\", \"dll\", \"dll\", \"domain\", \"domain\", \"domain\", \"domain\", \"don\", \"don\", \"don\", \"don\", \"don\", \"drauglis\", \"dynamic\", \"dynamically\", \"dynamically\", \"ed\", \"ed\", \"ed\", \"employ\", \"employee\", \"employee\", \"employee\", \"employee\", \"employer\", \"employer\", \"employer\", \"employer\", \"employment\", \"employment\", \"encrypt\", \"encrypt\", \"encrypt\", \"encrypt\", \"encrypt\", \"epl\", \"epl\", \"epl\", \"erp\", \"exception\", \"exception\", \"exception\", \"exec\", \"executable\", \"executable\", \"executable\", \"executable\", \"executable\", \"facebook\", \"facebook\", \"fair\", \"fair\", \"fair\", \"falcon\", \"fan\", \"fan\", \"father\", \"ffmpeg\", \"fide\", \"file\", \"file\", \"file\", \"file\", \"file\", \"find\", \"find\", \"find\", \"find\", \"find\", \"footage\", \"format\", \"format\", \"format\", \"format\", \"format\", \"free\", \"free\", \"free\", \"free\", \"free\", \"french\", \"fsf\", \"fsf\", \"fsf\", \"fsf\", \"game\", \"game\", \"game\", \"game\", \"ghostscript\", \"ghostscript\", \"gimpshop\", \"gist\", \"github\", \"github\", \"github\", \"github\", \"github\", \"gnu\", \"gnu\", \"gnu\", \"gnu\", \"gnu\", \"gojs\", \"gpl\", \"gpl\", \"gpl\", \"gpl\", \"gpl\", \"gplv\", \"gplv\", \"gplv\", \"gplv\", \"gplv\", \"grant\", \"grant\", \"grant\", \"grant\", \"grant\", \"graphic\", \"graphic\", \"graphic\", \"hdmi\", \"heif\", \"high\", \"high\", \"high\", \"high\", \"high\", \"highchart\", \"highchart\", \"hire\", \"hire\", \"hire\", \"hire\", \"house\", \"house\", \"house\", \"house\", \"ianal\", \"ianal\", \"ianal\", \"ianal\", \"ianal\", \"image\", \"image\", \"image\", \"image\", \"image\", \"imagemagick\", \"imgur\", \"in\", \"include\", \"include\", \"include\", \"include\", \"include\", \"independent\", \"independent\", \"independent\", \"infile\", \"insurance\", \"intimate\", \"invention\", \"invention\", \"invention\", \"issue\", \"issue\", \"issue\", \"issue\", \"issue\", \"jar\", \"job\", \"job\", \"job\", \"job\", \"js\", \"js\", \"js\", \"kappa\", \"know\", \"know\", \"know\", \"know\", \"know\", \"language\", \"language\", \"language\", \"language\", \"lawyer\", \"lawyer\", \"lawyer\", \"lawyer\", \"lawyer\", \"legal\", \"legal\", \"legal\", \"legal\", \"legal\", \"lgpl\", \"lgpl\", \"lgpl\", \"lgpl\", \"liable\", \"liable\", \"liable\", \"liable\", \"liable\", \"libheif\", \"liblgpl\", \"libpng\", \"libpng\", \"library\", \"library\", \"library\", \"library\", \"library\", \"licence\", \"licence\", \"licence\", \"licence\", \"licence\", \"license\", \"license\", \"license\", \"license\", \"license\", \"licensee\", \"licensee\", \"licensee\", \"licensee\", \"licensee\", \"licensor\", \"licensor\", \"licensor\", \"licensor\", \"licensor\", \"like\", \"like\", \"like\", \"like\", \"like\", \"link\", \"link\", \"link\", \"link\", \"link\", \"linking\", \"lipo\", \"love\", \"lua\", \"m\", \"m\", \"m\", \"m\", \"m\", \"map\", \"massachusetts\", \"material\", \"material\", \"material\", \"material\", \"material\", \"max\", \"medical\", \"mit\", \"mit\", \"mit\", \"mit\", \"mit\", \"mode\", \"mode\", \"mode\", \"mode\", \"modify\", \"modify\", \"modify\", \"modify\", \"modify\", \"module\", \"module\", \"module\", \"module\", \"module\", \"moral\", \"moral\", \"mosaico\", \"motor\", \"motor\", \"mph\", \"mysql\", \"mysql\", \"mysql\", \"native\", \"nc\", \"nc\", \"nc\", \"nd\", \"nd\", \"nda\", \"need\", \"need\", \"need\", \"need\", \"need\", \"newlib\", \"notebook\", \"notice\", \"notice\", \"notice\", \"notice\", \"notice\", \"obfuscation\", \"odbl\", \"ogl\", \"ogl\", \"open\", \"open\", \"open\", \"open\", \"open\", \"openstax\", \"organisation\", \"organisation\", \"organisation\", \"organisation\", \"organisation\", \"original\", \"original\", \"original\", \"original\", \"original\", \"osm\", \"output\", \"output\", \"output\", \"output\", \"output\", \"partner\", \"password\", \"password\", \"password\", \"patent\", \"patent\", \"patent\", \"patent\", \"patent\", \"pay\", \"pay\", \"pay\", \"pay\", \"paycheck\", \"paycheck\", \"permission\", \"permission\", \"permission\", \"permission\", \"permission\", \"person\", \"person\", \"person\", \"person\", \"person\", \"peter\", \"pin\", \"plugin\", \"plugin\", \"plugin\", \"posita\", \"post\", \"post\", \"post\", \"post\", \"post\", \"power\", \"power\", \"power\", \"power\", \"power\", \"previous\", \"previous\", \"previous\", \"previous\", \"product\", \"product\", \"product\", \"product\", \"product\", \"program\", \"program\", \"program\", \"program\", \"program\", \"project\", \"project\", \"project\", \"project\", \"project\", \"proprietary\", \"proprietary\", \"proprietary\", \"proprietary\", \"prs\", \"psu\", \"psu\", \"puzzle\", \"py\", \"qt\", \"qt\", \"quercus\", \"question\", \"question\", \"question\", \"question\", \"question\", \"range\", \"range\", \"range\", \"range\", \"rate\", \"rate\", \"rate\", \"rate\", \"rate\", \"rcd\", \"reasonable\", \"reasonable\", \"reasonable\", \"reasonable\", \"red\", \"red\", \"red\", \"redact\", \"refuse\", \"refuse\", \"release\", \"release\", \"release\", \"release\", \"release\", \"remix\", \"remuneration\", \"repository\", \"repository\", \"repository\", \"repository\", \"repository\", \"reserve\", \"reserve\", \"reserve\", \"resistor\", \"rice\", \"right\", \"right\", \"right\", \"right\", \"right\", \"rootfs\", \"rsync\", \"runtime\", \"s\", \"s\", \"s\", \"s\", \"s\", \"sa\", \"sa\", \"sa\", \"separate\", \"separate\", \"separate\", \"separate\", \"separate\", \"seq\", \"service\", \"service\", \"service\", \"service\", \"service\", \"sharealike\", \"sharealike\", \"sign\", \"sign\", \"sign\", \"sign\", \"sign\", \"slope\", \"snippet\", \"snippet\", \"snippet\", \"software\", \"software\", \"software\", \"software\", \"software\", \"solaris\", \"song\", \"source\", \"source\", \"source\", \"source\", \"source\", \"state\", \"state\", \"state\", \"state\", \"state\", \"statically\", \"statically\", \"station\", \"stdperiph\", \"stm\", \"street\", \"supply\", \"supply\", \"supply\", \"supply\", \"supply\", \"t\", \"t\", \"t\", \"t\", \"t\", \"taker\", \"term\", \"term\", \"term\", \"term\", \"term\", \"text\", \"text\", \"text\", \"text\", \"text\", \"textbook\", \"theme\", \"time\", \"time\", \"time\", \"time\", \"time\", \"tinymce\", \"tivo\", \"tmp\", \"tomcat\", \"trademark\", \"trademark\", \"trademark\", \"trademark\", \"trademark\", \"transform\", \"transform\", \"transform\", \"tweet\", \"twitter\", \"unlicense\", \"unlicense\", \"use\", \"use\", \"use\", \"use\", \"use\", \"user\", \"user\", \"user\", \"user\", \"user\", \"v\", \"v\", \"v\", \"v\", \"v\", \"version\", \"version\", \"version\", \"version\", \"version\", \"visit\", \"voltage\", \"voltage\", \"voltage\", \"wallet\", \"want\", \"want\", \"want\", \"want\", \"want\", \"warranty\", \"warranty\", \"warranty\", \"warranty\", \"watt\", \"way\", \"way\", \"way\", \"way\", \"way\", \"win\", \"win\", \"win\", \"win\", \"win\", \"work\", \"work\", \"work\", \"work\", \"work\", \"write\", \"write\", \"write\", \"write\", \"write\", \"x\", \"x\", \"x\", \"x\", \"x\", \"xilinx\", \"xp\", \"yubikey\", \"zypher\"]}, \"R\": 30, \"lambda.step\": 0.01, \"plot.opts\": {\"xlab\": \"PC1\", \"ylab\": \"PC2\"}, \"topic.order\": [3, 5, 2, 4, 1]};\n",
              "\n",
              "function LDAvis_load_lib(url, callback){\n",
              "  var s = document.createElement('script');\n",
              "  s.src = url;\n",
              "  s.async = true;\n",
              "  s.onreadystatechange = s.onload = callback;\n",
              "  s.onerror = function(){console.warn(\"failed to load library \" + url);};\n",
              "  document.getElementsByTagName(\"head\")[0].appendChild(s);\n",
              "}\n",
              "\n",
              "if(typeof(LDAvis) !== \"undefined\"){\n",
              "   // already loaded: just create the visualization\n",
              "   !function(LDAvis){\n",
              "       new LDAvis(\"#\" + \"ldavis_el1991329288190858241047156790\", ldavis_el1991329288190858241047156790_data);\n",
              "   }(LDAvis);\n",
              "}else if(typeof define === \"function\" && define.amd){\n",
              "   // require.js is available: use it to load d3/LDAvis\n",
              "   require.config({paths: {d3: \"https://d3js.org/d3.v5\"}});\n",
              "   require([\"d3\"], function(d3){\n",
              "      window.d3 = d3;\n",
              "      LDAvis_load_lib(\"https://cdn.jsdelivr.net/gh/bmabey/pyLDAvis@3.4.0/pyLDAvis/js/ldavis.v3.0.0.js\", function(){\n",
              "        new LDAvis(\"#\" + \"ldavis_el1991329288190858241047156790\", ldavis_el1991329288190858241047156790_data);\n",
              "      });\n",
              "    });\n",
              "}else{\n",
              "    // require.js not available: dynamically load d3 & LDAvis\n",
              "    LDAvis_load_lib(\"https://d3js.org/d3.v5.js\", function(){\n",
              "         LDAvis_load_lib(\"https://cdn.jsdelivr.net/gh/bmabey/pyLDAvis@3.4.0/pyLDAvis/js/ldavis.v3.0.0.js\", function(){\n",
              "                 new LDAvis(\"#\" + \"ldavis_el1991329288190858241047156790\", ldavis_el1991329288190858241047156790_data);\n",
              "            })\n",
              "         });\n",
              "}\n",
              "</script>"
            ]
          },
          "metadata": {},
          "execution_count": 11
        }
      ]
    },
    {
      "cell_type": "code",
      "source": [
        "from sklearn.feature_extraction.text import CountVectorizer\n",
        "from gensim.models.ldamodel import LdaModel\n",
        "from gensim.corpora.dictionary import Dictionary\n",
        "import pandas as pd\n",
        "\n",
        "# Load dataset\n",
        "df = pd.read_csv(\"processed_merged_ianal.csv\")\n",
        "\n",
        "# Tokenize text\n",
        "tokenized_texts = df[\"cleaned_text\"].apply(lambda x: x.split())\n",
        "\n",
        "# Create dictionary and corpus for LDA\n",
        "dictionary = Dictionary(tokenized_texts)\n",
        "corpus = [dictionary.doc2bow(text) for text in tokenized_texts]\n",
        "\n",
        "# Define number of topics\n",
        "num_topics = 5\n",
        "\n",
        "# Train LDA model\n",
        "lda_model = LdaModel(corpus=corpus, id2word=dictionary, num_topics=num_topics, passes=10)\n",
        "\n",
        "# Display topics with top words\n",
        "topics = lda_model.print_topics(num_words=10)\n",
        "for topic_id, topic_words in topics:\n",
        "    print(f\"Topic {topic_id+1}: {topic_words}\")\n"
      ],
      "metadata": {
        "colab": {
          "base_uri": "https://localhost:8080/"
        },
        "id": "kunUb_ZtImWJ",
        "outputId": "bdac28cb-536f-4ba1-a52c-6ae1ac9a22a6"
      },
      "execution_count": null,
      "outputs": [
        {
          "output_type": "stream",
          "name": "stdout",
          "text": [
            "Topic 1: 0.015*\"user\" + 0.010*\"datum\" + 0.008*\"s\" + 0.007*\"t\" + 0.006*\"app\" + 0.005*\"company\" + 0.005*\"information\" + 0.005*\"ianal\" + 0.005*\"server\" + 0.005*\"device\"\n",
            "Topic 2: 0.041*\"license\" + 0.023*\"code\" + 0.022*\"library\" + 0.016*\"source\" + 0.016*\"gpl\" + 0.015*\"use\" + 0.013*\"lgpl\" + 0.011*\"work\" + 0.009*\"link\" + 0.009*\"s\"\n",
            "Topic 3: 0.026*\"code\" + 0.021*\"gpl\" + 0.020*\"source\" + 0.016*\"software\" + 0.015*\"license\" + 0.014*\"program\" + 0.014*\"s\" + 0.012*\"t\" + 0.010*\"modify\" + 0.009*\"work\"\n",
            "Topic 4: 0.024*\"license\" + 0.014*\"t\" + 0.013*\"s\" + 0.011*\"use\" + 0.011*\"copyright\" + 0.010*\"software\" + 0.009*\"source\" + 0.008*\"work\" + 0.008*\"code\" + 0.007*\"file\"\n",
            "Topic 5: 0.027*\"license\" + 0.018*\"code\" + 0.017*\"s\" + 0.016*\"work\" + 0.012*\"gpl\" + 0.012*\"t\" + 0.012*\"use\" + 0.011*\"project\" + 0.008*\"company\" + 0.008*\"source\"\n"
          ]
        }
      ]
    },
    {
      "cell_type": "code",
      "source": [
        "from textblob import TextBlob\n",
        "\n",
        "# Function to get sentiment score (-1 to 1)\n",
        "def get_sentiment(text):\n",
        "    return TextBlob(text).sentiment.polarity\n",
        "\n",
        "# Apply sentiment analysis\n",
        "df[\"sentiment_score\"] = df[\"cleaned_text\"].apply(get_sentiment)\n",
        "\n",
        "# Categorize sentiment\n",
        "df[\"sentiment_label\"] = df[\"sentiment_score\"].apply(lambda x: \"Negative\" if x < 0 else \"Neutral\" if x == 0 else \"Positive\")\n",
        "\n",
        "# Print sentiment distribution\n",
        "print(df[\"sentiment_label\"].value_counts())\n",
        "\n",
        "# Save results\n",
        "df.to_csv(\"ianal_sentiment_analysis.csv\", index=False)\n"
      ],
      "metadata": {
        "colab": {
          "base_uri": "https://localhost:8080/"
        },
        "id": "qYOliAW_IwUW",
        "outputId": "6a295193-4b83-4106-f823-ae0092590cad"
      },
      "execution_count": null,
      "outputs": [
        {
          "output_type": "stream",
          "name": "stdout",
          "text": [
            "sentiment_label\n",
            "Positive    497\n",
            "Negative     78\n",
            "Neutral       1\n",
            "Name: count, dtype: int64\n"
          ]
        }
      ]
    },
    {
      "cell_type": "code",
      "source": [
        "from nltk.sentiment import SentimentIntensityAnalyzer\n",
        "import nltk\n",
        "\n",
        "# Ensure VADER is downloaded\n",
        "nltk.download(\"vader_lexicon\")\n",
        "\n",
        "# Initialize VADER\n",
        "sia = SentimentIntensityAnalyzer()\n",
        "\n",
        "# Function to get VADER sentiment score\n",
        "def get_vader_sentiment(text):\n",
        "    sentiment_score = sia.polarity_scores(text)[\"compound\"]  # Compound score (-1 to 1)\n",
        "\n",
        "    # Custom thresholds for better descriptive labels\n",
        "    if sentiment_score >= 0.5:\n",
        "        return \"Confident\"\n",
        "    elif sentiment_score > 0.1:\n",
        "        return \"Positive but Cautious\"\n",
        "    elif sentiment_score < -0.1:\n",
        "        return \"Uncertain/Cautious\"\n",
        "    elif sentiment_score <= -0.5:\n",
        "        return \"Strongly Negative\"\n",
        "    else:\n",
        "        return \"Neutral\"\n",
        "\n",
        "# Apply the function\n",
        "df[\"vader_sentiment_label\"] = df[\"cleaned_text\"].apply(get_vader_sentiment)\n",
        "\n",
        "# Print updated sentiment breakdown\n",
        "print(df[\"vader_sentiment_label\"].value_counts())\n",
        "\n",
        "# Save new sentiment labels\n",
        "df.to_csv(\"ianal_vader_sentiment_analysis.csv\", index=False)\n"
      ],
      "metadata": {
        "colab": {
          "base_uri": "https://localhost:8080/"
        },
        "id": "tfQPAPUMJGIi",
        "outputId": "38fabc5f-0e50-4e1f-f021-1999e56bc20a"
      },
      "execution_count": null,
      "outputs": [
        {
          "output_type": "stream",
          "name": "stderr",
          "text": [
            "[nltk_data] Downloading package vader_lexicon to /root/nltk_data...\n"
          ]
        },
        {
          "output_type": "stream",
          "name": "stdout",
          "text": [
            "vader_sentiment_label\n",
            "Confident                499\n",
            "Positive but Cautious     35\n",
            "Uncertain/Cautious        34\n",
            "Neutral                    8\n",
            "Name: count, dtype: int64\n"
          ]
        }
      ]
    },
    {
      "cell_type": "code",
      "source": [],
      "metadata": {
        "id": "MXV9TK5fz6Fc"
      },
      "execution_count": null,
      "outputs": []
    }
  ]
}